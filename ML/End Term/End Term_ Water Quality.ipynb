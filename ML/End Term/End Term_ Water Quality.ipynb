{
 "cells": [
  {
   "cell_type": "code",
   "execution_count": 124,
   "metadata": {},
   "outputs": [],
   "source": [
    "import pandas as pd\n",
    "import seaborn as sns\n",
    "import matplotlib.pyplot as plt\n",
    "import numpy as np\n",
    "from sklearn.model_selection import train_test_split as tts\n",
    "from sklearn.preprocessing import MinMaxScaler\n",
    "from sklearn.neighbors import KNeighborsClassifier\n",
    "from sklearn.linear_model import LogisticRegression\n",
    "from sklearn.tree import DecisionTreeClassifier\n",
    "from sklearn.naive_bayes import GaussianNB \n",
    "from sklearn import tree\n",
    "from sklearn.metrics import confusion_matrix\n",
    "from sklearn.metrics import classification_report\n",
    "from sklearn.metrics import accuracy_score\n",
    "from sklearn.metrics import roc_curve\n",
    "from sklearn.metrics import roc_auc_score\n",
    "from sklearn.ensemble import BaggingClassifier, AdaBoostClassifier, GradientBoostingClassifier, RandomForestClassifier"
   ]
  },
  {
   "cell_type": "code",
   "execution_count": 55,
   "metadata": {},
   "outputs": [],
   "source": [
    "df = pd.read_excel('water_quality.xlsx', na_values =[\"?\", \".\", \" \"])"
   ]
  },
  {
   "cell_type": "code",
   "execution_count": 56,
   "metadata": {},
   "outputs": [
    {
     "data": {
      "text/html": [
       "<div>\n",
       "<style scoped>\n",
       "    .dataframe tbody tr th:only-of-type {\n",
       "        vertical-align: middle;\n",
       "    }\n",
       "\n",
       "    .dataframe tbody tr th {\n",
       "        vertical-align: top;\n",
       "    }\n",
       "\n",
       "    .dataframe thead th {\n",
       "        text-align: right;\n",
       "    }\n",
       "</style>\n",
       "<table border=\"1\" class=\"dataframe\">\n",
       "  <thead>\n",
       "    <tr style=\"text-align: right;\">\n",
       "      <th></th>\n",
       "      <th>carbon_level</th>\n",
       "      <th>water_ph_level</th>\n",
       "      <th>water_hardness</th>\n",
       "      <th>other_solid_precipitate</th>\n",
       "      <th>Chlorine_compounds</th>\n",
       "      <th>soluble_sulphates</th>\n",
       "      <th>electrical_conductivity</th>\n",
       "      <th>TMH</th>\n",
       "      <th>solid_suspensions</th>\n",
       "      <th>drinkability</th>\n",
       "    </tr>\n",
       "  </thead>\n",
       "  <tbody>\n",
       "    <tr>\n",
       "      <th>0</th>\n",
       "      <td>14.613423</td>\n",
       "      <td>8.107244</td>\n",
       "      <td>228.171859</td>\n",
       "      <td>833.154328</td>\n",
       "      <td>6.185948</td>\n",
       "      <td>246.942611</td>\n",
       "      <td>369.903199</td>\n",
       "      <td>101.351525</td>\n",
       "      <td>4.688271</td>\n",
       "      <td>1</td>\n",
       "    </tr>\n",
       "    <tr>\n",
       "      <th>1</th>\n",
       "      <td>14.805198</td>\n",
       "      <td>6.729191</td>\n",
       "      <td>178.493632</td>\n",
       "      <td>1913.653795</td>\n",
       "      <td>5.632940</td>\n",
       "      <td>NaN</td>\n",
       "      <td>341.774778</td>\n",
       "      <td>64.129155</td>\n",
       "      <td>5.112254</td>\n",
       "      <td>1</td>\n",
       "    </tr>\n",
       "    <tr>\n",
       "      <th>2</th>\n",
       "      <td>12.950545</td>\n",
       "      <td>5.762552</td>\n",
       "      <td>184.847487</td>\n",
       "      <td>948.486842</td>\n",
       "      <td>6.302264</td>\n",
       "      <td>347.775154</td>\n",
       "      <td>449.435376</td>\n",
       "      <td>65.839742</td>\n",
       "      <td>2.906589</td>\n",
       "      <td>0</td>\n",
       "    </tr>\n",
       "    <tr>\n",
       "      <th>3</th>\n",
       "      <td>11.420910</td>\n",
       "      <td>4.595608</td>\n",
       "      <td>204.859660</td>\n",
       "      <td>574.400527</td>\n",
       "      <td>6.371345</td>\n",
       "      <td>NaN</td>\n",
       "      <td>631.822078</td>\n",
       "      <td>70.449003</td>\n",
       "      <td>3.978920</td>\n",
       "      <td>1</td>\n",
       "    </tr>\n",
       "    <tr>\n",
       "      <th>4</th>\n",
       "      <td>15.213176</td>\n",
       "      <td>NaN</td>\n",
       "      <td>194.166625</td>\n",
       "      <td>298.008404</td>\n",
       "      <td>7.266598</td>\n",
       "      <td>399.282081</td>\n",
       "      <td>427.896907</td>\n",
       "      <td>34.471753</td>\n",
       "      <td>2.909606</td>\n",
       "      <td>0</td>\n",
       "    </tr>\n",
       "    <tr>\n",
       "      <th>5</th>\n",
       "      <td>15.627514</td>\n",
       "      <td>6.548797</td>\n",
       "      <td>205.168161</td>\n",
       "      <td>2054.710365</td>\n",
       "      <td>3.777648</td>\n",
       "      <td>NaN</td>\n",
       "      <td>327.967343</td>\n",
       "      <td>51.850366</td>\n",
       "      <td>4.197305</td>\n",
       "      <td>0</td>\n",
       "    </tr>\n",
       "    <tr>\n",
       "      <th>6</th>\n",
       "      <td>17.273966</td>\n",
       "      <td>5.716756</td>\n",
       "      <td>197.104210</td>\n",
       "      <td>162.993745</td>\n",
       "      <td>8.702061</td>\n",
       "      <td>287.012564</td>\n",
       "      <td>345.083936</td>\n",
       "      <td>58.411515</td>\n",
       "      <td>4.080675</td>\n",
       "      <td>0</td>\n",
       "    </tr>\n",
       "    <tr>\n",
       "      <th>7</th>\n",
       "      <td>15.193704</td>\n",
       "      <td>NaN</td>\n",
       "      <td>240.036279</td>\n",
       "      <td>306.801733</td>\n",
       "      <td>8.643089</td>\n",
       "      <td>339.158877</td>\n",
       "      <td>487.434555</td>\n",
       "      <td>88.785469</td>\n",
       "      <td>3.980920</td>\n",
       "      <td>1</td>\n",
       "    </tr>\n",
       "    <tr>\n",
       "      <th>8</th>\n",
       "      <td>14.732291</td>\n",
       "      <td>5.099932</td>\n",
       "      <td>189.665937</td>\n",
       "      <td>2455.114382</td>\n",
       "      <td>4.368152</td>\n",
       "      <td>NaN</td>\n",
       "      <td>334.512306</td>\n",
       "      <td>49.985679</td>\n",
       "      <td>5.159301</td>\n",
       "      <td>1</td>\n",
       "    </tr>\n",
       "    <tr>\n",
       "      <th>9</th>\n",
       "      <td>12.010676</td>\n",
       "      <td>7.603775</td>\n",
       "      <td>214.682778</td>\n",
       "      <td>46.832971</td>\n",
       "      <td>10.999995</td>\n",
       "      <td>398.920869</td>\n",
       "      <td>321.069074</td>\n",
       "      <td>58.100707</td>\n",
       "      <td>3.584985</td>\n",
       "      <td>1</td>\n",
       "    </tr>\n",
       "    <tr>\n",
       "      <th>10</th>\n",
       "      <td>15.905270</td>\n",
       "      <td>NaN</td>\n",
       "      <td>192.202168</td>\n",
       "      <td>386.549513</td>\n",
       "      <td>8.963156</td>\n",
       "      <td>363.472798</td>\n",
       "      <td>474.781734</td>\n",
       "      <td>50.807825</td>\n",
       "      <td>2.998335</td>\n",
       "      <td>0</td>\n",
       "    </tr>\n",
       "    <tr>\n",
       "      <th>11</th>\n",
       "      <td>22.846529</td>\n",
       "      <td>7.764143</td>\n",
       "      <td>186.132432</td>\n",
       "      <td>472.199330</td>\n",
       "      <td>8.011207</td>\n",
       "      <td>NaN</td>\n",
       "      <td>399.131718</td>\n",
       "      <td>35.243678</td>\n",
       "      <td>4.105178</td>\n",
       "      <td>0</td>\n",
       "    </tr>\n",
       "    <tr>\n",
       "      <th>12</th>\n",
       "      <td>17.545440</td>\n",
       "      <td>NaN</td>\n",
       "      <td>178.233659</td>\n",
       "      <td>5352.566338</td>\n",
       "      <td>3.912714</td>\n",
       "      <td>NaN</td>\n",
       "      <td>535.086395</td>\n",
       "      <td>64.071288</td>\n",
       "      <td>5.113870</td>\n",
       "      <td>1</td>\n",
       "    </tr>\n",
       "    <tr>\n",
       "      <th>13</th>\n",
       "      <td>19.321722</td>\n",
       "      <td>11.496702</td>\n",
       "      <td>195.989486</td>\n",
       "      <td>380.099935</td>\n",
       "      <td>7.235224</td>\n",
       "      <td>311.965093</td>\n",
       "      <td>357.522599</td>\n",
       "      <td>82.350013</td>\n",
       "      <td>3.132253</td>\n",
       "      <td>0</td>\n",
       "    </tr>\n",
       "    <tr>\n",
       "      <th>14</th>\n",
       "      <td>16.217680</td>\n",
       "      <td>7.476408</td>\n",
       "      <td>246.184719</td>\n",
       "      <td>202.689187</td>\n",
       "      <td>9.791961</td>\n",
       "      <td>341.163631</td>\n",
       "      <td>339.729988</td>\n",
       "      <td>77.603021</td>\n",
       "      <td>3.478194</td>\n",
       "      <td>0</td>\n",
       "    </tr>\n",
       "    <tr>\n",
       "      <th>15</th>\n",
       "      <td>11.598340</td>\n",
       "      <td>6.983133</td>\n",
       "      <td>181.119529</td>\n",
       "      <td>546.935813</td>\n",
       "      <td>6.931628</td>\n",
       "      <td>NaN</td>\n",
       "      <td>181.483754</td>\n",
       "      <td>72.033901</td>\n",
       "      <td>4.426983</td>\n",
       "      <td>0</td>\n",
       "    </tr>\n",
       "    <tr>\n",
       "      <th>16</th>\n",
       "      <td>14.652334</td>\n",
       "      <td>NaN</td>\n",
       "      <td>228.109459</td>\n",
       "      <td>660.421129</td>\n",
       "      <td>6.326534</td>\n",
       "      <td>326.504893</td>\n",
       "      <td>402.600657</td>\n",
       "      <td>80.340185</td>\n",
       "      <td>3.490173</td>\n",
       "      <td>1</td>\n",
       "    </tr>\n",
       "    <tr>\n",
       "      <th>17</th>\n",
       "      <td>12.702489</td>\n",
       "      <td>10.887305</td>\n",
       "      <td>283.895864</td>\n",
       "      <td>1479.237312</td>\n",
       "      <td>4.656538</td>\n",
       "      <td>334.180833</td>\n",
       "      <td>420.607649</td>\n",
       "      <td>72.102324</td>\n",
       "      <td>4.004161</td>\n",
       "      <td>0</td>\n",
       "    </tr>\n",
       "    <tr>\n",
       "      <th>18</th>\n",
       "      <td>18.148562</td>\n",
       "      <td>7.369912</td>\n",
       "      <td>155.644805</td>\n",
       "      <td>1273.453350</td>\n",
       "      <td>5.435025</td>\n",
       "      <td>399.940784</td>\n",
       "      <td>391.324215</td>\n",
       "      <td>63.698617</td>\n",
       "      <td>3.821721</td>\n",
       "      <td>0</td>\n",
       "    </tr>\n",
       "    <tr>\n",
       "      <th>19</th>\n",
       "      <td>14.289320</td>\n",
       "      <td>7.814524</td>\n",
       "      <td>180.347308</td>\n",
       "      <td>414.223936</td>\n",
       "      <td>7.489006</td>\n",
       "      <td>352.277029</td>\n",
       "      <td>370.011373</td>\n",
       "      <td>80.882425</td>\n",
       "      <td>2.901700</td>\n",
       "      <td>0</td>\n",
       "    </tr>\n",
       "  </tbody>\n",
       "</table>\n",
       "</div>"
      ],
      "text/plain": [
       "    carbon_level  water_ph_level  water_hardness  other_solid_precipitate  \\\n",
       "0      14.613423        8.107244      228.171859               833.154328   \n",
       "1      14.805198        6.729191      178.493632              1913.653795   \n",
       "2      12.950545        5.762552      184.847487               948.486842   \n",
       "3      11.420910        4.595608      204.859660               574.400527   \n",
       "4      15.213176             NaN      194.166625               298.008404   \n",
       "5      15.627514        6.548797      205.168161              2054.710365   \n",
       "6      17.273966        5.716756      197.104210               162.993745   \n",
       "7      15.193704             NaN      240.036279               306.801733   \n",
       "8      14.732291        5.099932      189.665937              2455.114382   \n",
       "9      12.010676        7.603775      214.682778                46.832971   \n",
       "10     15.905270             NaN      192.202168               386.549513   \n",
       "11     22.846529        7.764143      186.132432               472.199330   \n",
       "12     17.545440             NaN      178.233659              5352.566338   \n",
       "13     19.321722       11.496702      195.989486               380.099935   \n",
       "14     16.217680        7.476408      246.184719               202.689187   \n",
       "15     11.598340        6.983133      181.119529               546.935813   \n",
       "16     14.652334             NaN      228.109459               660.421129   \n",
       "17     12.702489       10.887305      283.895864              1479.237312   \n",
       "18     18.148562        7.369912      155.644805              1273.453350   \n",
       "19     14.289320        7.814524      180.347308               414.223936   \n",
       "\n",
       "    Chlorine_compounds  soluble_sulphates  electrical_conductivity  \\\n",
       "0             6.185948         246.942611               369.903199   \n",
       "1             5.632940                NaN               341.774778   \n",
       "2             6.302264         347.775154               449.435376   \n",
       "3             6.371345                NaN               631.822078   \n",
       "4             7.266598         399.282081               427.896907   \n",
       "5             3.777648                NaN               327.967343   \n",
       "6             8.702061         287.012564               345.083936   \n",
       "7             8.643089         339.158877               487.434555   \n",
       "8             4.368152                NaN               334.512306   \n",
       "9            10.999995         398.920869               321.069074   \n",
       "10            8.963156         363.472798               474.781734   \n",
       "11            8.011207                NaN               399.131718   \n",
       "12            3.912714                NaN               535.086395   \n",
       "13            7.235224         311.965093               357.522599   \n",
       "14            9.791961         341.163631               339.729988   \n",
       "15            6.931628                NaN               181.483754   \n",
       "16            6.326534         326.504893               402.600657   \n",
       "17            4.656538         334.180833               420.607649   \n",
       "18            5.435025         399.940784               391.324215   \n",
       "19            7.489006         352.277029               370.011373   \n",
       "\n",
       "           TMH  solid_suspensions  drinkability  \n",
       "0   101.351525           4.688271             1  \n",
       "1    64.129155           5.112254             1  \n",
       "2    65.839742           2.906589             0  \n",
       "3    70.449003           3.978920             1  \n",
       "4    34.471753           2.909606             0  \n",
       "5    51.850366           4.197305             0  \n",
       "6    58.411515           4.080675             0  \n",
       "7    88.785469           3.980920             1  \n",
       "8    49.985679           5.159301             1  \n",
       "9    58.100707           3.584985             1  \n",
       "10   50.807825           2.998335             0  \n",
       "11   35.243678           4.105178             0  \n",
       "12   64.071288           5.113870             1  \n",
       "13   82.350013           3.132253             0  \n",
       "14   77.603021           3.478194             0  \n",
       "15   72.033901           4.426983             0  \n",
       "16   80.340185           3.490173             1  \n",
       "17   72.102324           4.004161             0  \n",
       "18   63.698617           3.821721             0  \n",
       "19   80.882425           2.901700             0  "
      ]
     },
     "execution_count": 56,
     "metadata": {},
     "output_type": "execute_result"
    }
   ],
   "source": [
    "df.head(20)"
   ]
  },
  {
   "cell_type": "code",
   "execution_count": 57,
   "metadata": {},
   "outputs": [
    {
     "name": "stdout",
     "output_type": "stream",
     "text": [
      "<class 'pandas.core.frame.DataFrame'>\n",
      "RangeIndex: 3276 entries, 0 to 3275\n",
      "Data columns (total 10 columns):\n",
      " #   Column                   Non-Null Count  Dtype  \n",
      "---  ------                   --------------  -----  \n",
      " 0   carbon_level             3276 non-null   float64\n",
      " 1   water_ph_level           2785 non-null   float64\n",
      " 2   water_hardness           3276 non-null   float64\n",
      " 3   other_solid_precipitate  3276 non-null   float64\n",
      " 4   Chlorine_compounds       3276 non-null   float64\n",
      " 5   soluble_sulphates        2495 non-null   float64\n",
      " 6   electrical_conductivity  3276 non-null   float64\n",
      " 7   TMH                      3114 non-null   float64\n",
      " 8   solid_suspensions        3276 non-null   float64\n",
      " 9   drinkability             3276 non-null   int64  \n",
      "dtypes: float64(9), int64(1)\n",
      "memory usage: 256.1 KB\n"
     ]
    }
   ],
   "source": [
    "df.info()"
   ]
  },
  {
   "cell_type": "code",
   "execution_count": 58,
   "metadata": {},
   "outputs": [
    {
     "data": {
      "text/plain": [
       "carbon_level                 0\n",
       "water_ph_level             491\n",
       "water_hardness               0\n",
       "other_solid_precipitate      0\n",
       "Chlorine_compounds           0\n",
       "soluble_sulphates          781\n",
       "electrical_conductivity      0\n",
       "TMH                        162\n",
       "solid_suspensions            0\n",
       "drinkability                 0\n",
       "dtype: int64"
      ]
     },
     "execution_count": 58,
     "metadata": {},
     "output_type": "execute_result"
    }
   ],
   "source": [
    "df.isnull().sum()"
   ]
  },
  {
   "cell_type": "code",
   "execution_count": 62,
   "metadata": {},
   "outputs": [],
   "source": [
    "#Imputing the null values with mean\n",
    "mean_waterPh = df['water_ph_level'].mean()\n",
    "df['water_ph_level'].fillna(value=mean_waterPh, inplace=True)\n",
    "mean_sulphates = df['soluble_sulphates'].mean()\n",
    "df['soluble_sulphates'].fillna(value=mean_sulphates, inplace=True)\n",
    "mean_TMH = df['TMH'].mean()\n",
    "df['TMH'].fillna(value=mean_sulphates, inplace=True)"
   ]
  },
  {
   "cell_type": "code",
   "execution_count": 64,
   "metadata": {},
   "outputs": [],
   "source": [
    "df['water_ph_level']= df['water_ph_level'].astype('float')\n",
    "df['soluble_sulphates']= df['soluble_sulphates'].astype('float')\n",
    "df['TMH'] = df['TMH'].astype('float')"
   ]
  },
  {
   "cell_type": "code",
   "execution_count": 65,
   "metadata": {},
   "outputs": [
    {
     "data": {
      "text/html": [
       "<div>\n",
       "<style scoped>\n",
       "    .dataframe tbody tr th:only-of-type {\n",
       "        vertical-align: middle;\n",
       "    }\n",
       "\n",
       "    .dataframe tbody tr th {\n",
       "        vertical-align: top;\n",
       "    }\n",
       "\n",
       "    .dataframe thead th {\n",
       "        text-align: right;\n",
       "    }\n",
       "</style>\n",
       "<table border=\"1\" class=\"dataframe\">\n",
       "  <thead>\n",
       "    <tr style=\"text-align: right;\">\n",
       "      <th></th>\n",
       "      <th>carbon_level</th>\n",
       "      <th>water_ph_level</th>\n",
       "      <th>water_hardness</th>\n",
       "      <th>other_solid_precipitate</th>\n",
       "      <th>Chlorine_compounds</th>\n",
       "      <th>soluble_sulphates</th>\n",
       "      <th>electrical_conductivity</th>\n",
       "      <th>TMH</th>\n",
       "      <th>solid_suspensions</th>\n",
       "      <th>drinkability</th>\n",
       "    </tr>\n",
       "  </thead>\n",
       "  <tbody>\n",
       "    <tr>\n",
       "      <th>0</th>\n",
       "      <td>14.613423</td>\n",
       "      <td>8.107244</td>\n",
       "      <td>228.171859</td>\n",
       "      <td>833.154328</td>\n",
       "      <td>6.185948</td>\n",
       "      <td>246.942611</td>\n",
       "      <td>369.903199</td>\n",
       "      <td>101.351525</td>\n",
       "      <td>4.688271</td>\n",
       "      <td>1</td>\n",
       "    </tr>\n",
       "    <tr>\n",
       "      <th>1</th>\n",
       "      <td>14.805198</td>\n",
       "      <td>6.729191</td>\n",
       "      <td>178.493632</td>\n",
       "      <td>1913.653795</td>\n",
       "      <td>5.632940</td>\n",
       "      <td>333.775777</td>\n",
       "      <td>341.774778</td>\n",
       "      <td>64.129155</td>\n",
       "      <td>5.112254</td>\n",
       "      <td>1</td>\n",
       "    </tr>\n",
       "    <tr>\n",
       "      <th>2</th>\n",
       "      <td>12.950545</td>\n",
       "      <td>5.762552</td>\n",
       "      <td>184.847487</td>\n",
       "      <td>948.486842</td>\n",
       "      <td>6.302264</td>\n",
       "      <td>347.775154</td>\n",
       "      <td>449.435376</td>\n",
       "      <td>65.839742</td>\n",
       "      <td>2.906589</td>\n",
       "      <td>0</td>\n",
       "    </tr>\n",
       "    <tr>\n",
       "      <th>3</th>\n",
       "      <td>11.420910</td>\n",
       "      <td>4.595608</td>\n",
       "      <td>204.859660</td>\n",
       "      <td>574.400527</td>\n",
       "      <td>6.371345</td>\n",
       "      <td>333.775777</td>\n",
       "      <td>631.822078</td>\n",
       "      <td>70.449003</td>\n",
       "      <td>3.978920</td>\n",
       "      <td>1</td>\n",
       "    </tr>\n",
       "    <tr>\n",
       "      <th>4</th>\n",
       "      <td>15.213176</td>\n",
       "      <td>7.080795</td>\n",
       "      <td>194.166625</td>\n",
       "      <td>298.008404</td>\n",
       "      <td>7.266598</td>\n",
       "      <td>399.282081</td>\n",
       "      <td>427.896907</td>\n",
       "      <td>34.471753</td>\n",
       "      <td>2.909606</td>\n",
       "      <td>0</td>\n",
       "    </tr>\n",
       "  </tbody>\n",
       "</table>\n",
       "</div>"
      ],
      "text/plain": [
       "   carbon_level  water_ph_level  water_hardness  other_solid_precipitate  \\\n",
       "0     14.613423        8.107244      228.171859               833.154328   \n",
       "1     14.805198        6.729191      178.493632              1913.653795   \n",
       "2     12.950545        5.762552      184.847487               948.486842   \n",
       "3     11.420910        4.595608      204.859660               574.400527   \n",
       "4     15.213176        7.080795      194.166625               298.008404   \n",
       "\n",
       "   Chlorine_compounds  soluble_sulphates  electrical_conductivity         TMH  \\\n",
       "0            6.185948         246.942611               369.903199  101.351525   \n",
       "1            5.632940         333.775777               341.774778   64.129155   \n",
       "2            6.302264         347.775154               449.435376   65.839742   \n",
       "3            6.371345         333.775777               631.822078   70.449003   \n",
       "4            7.266598         399.282081               427.896907   34.471753   \n",
       "\n",
       "   solid_suspensions  drinkability  \n",
       "0           4.688271             1  \n",
       "1           5.112254             1  \n",
       "2           2.906589             0  \n",
       "3           3.978920             1  \n",
       "4           2.909606             0  "
      ]
     },
     "execution_count": 65,
     "metadata": {},
     "output_type": "execute_result"
    }
   ],
   "source": [
    "df.head()"
   ]
  },
  {
   "cell_type": "code",
   "execution_count": 66,
   "metadata": {},
   "outputs": [
    {
     "data": {
      "text/html": [
       "<div>\n",
       "<style scoped>\n",
       "    .dataframe tbody tr th:only-of-type {\n",
       "        vertical-align: middle;\n",
       "    }\n",
       "\n",
       "    .dataframe tbody tr th {\n",
       "        vertical-align: top;\n",
       "    }\n",
       "\n",
       "    .dataframe thead th {\n",
       "        text-align: right;\n",
       "    }\n",
       "</style>\n",
       "<table border=\"1\" class=\"dataframe\">\n",
       "  <thead>\n",
       "    <tr style=\"text-align: right;\">\n",
       "      <th></th>\n",
       "      <th>carbon_level</th>\n",
       "      <th>water_ph_level</th>\n",
       "      <th>water_hardness</th>\n",
       "      <th>other_solid_precipitate</th>\n",
       "      <th>Chlorine_compounds</th>\n",
       "      <th>soluble_sulphates</th>\n",
       "      <th>electrical_conductivity</th>\n",
       "      <th>TMH</th>\n",
       "      <th>solid_suspensions</th>\n",
       "      <th>drinkability</th>\n",
       "    </tr>\n",
       "  </thead>\n",
       "  <tbody>\n",
       "    <tr>\n",
       "      <th>count</th>\n",
       "      <td>3276.000000</td>\n",
       "      <td>3276.000000</td>\n",
       "      <td>3276.000000</td>\n",
       "      <td>3276.000000</td>\n",
       "      <td>3276.000000</td>\n",
       "      <td>3276.000000</td>\n",
       "      <td>3276.000000</td>\n",
       "      <td>3276.000000</td>\n",
       "      <td>3276.000000</td>\n",
       "      <td>3276.000000</td>\n",
       "    </tr>\n",
       "    <tr>\n",
       "      <th>mean</th>\n",
       "      <td>14.284970</td>\n",
       "      <td>7.080795</td>\n",
       "      <td>196.369496</td>\n",
       "      <td>886.242335</td>\n",
       "      <td>7.122277</td>\n",
       "      <td>333.775777</td>\n",
       "      <td>426.205111</td>\n",
       "      <td>79.618355</td>\n",
       "      <td>3.966786</td>\n",
       "      <td>0.390110</td>\n",
       "    </tr>\n",
       "    <tr>\n",
       "      <th>std</th>\n",
       "      <td>3.308162</td>\n",
       "      <td>1.469956</td>\n",
       "      <td>32.879761</td>\n",
       "      <td>1102.780778</td>\n",
       "      <td>1.583085</td>\n",
       "      <td>36.142612</td>\n",
       "      <td>80.824064</td>\n",
       "      <td>60.084944</td>\n",
       "      <td>0.780382</td>\n",
       "      <td>0.487849</td>\n",
       "    </tr>\n",
       "    <tr>\n",
       "      <th>min</th>\n",
       "      <td>2.200000</td>\n",
       "      <td>0.000000</td>\n",
       "      <td>47.432000</td>\n",
       "      <td>5.256757</td>\n",
       "      <td>0.352000</td>\n",
       "      <td>129.000000</td>\n",
       "      <td>181.483754</td>\n",
       "      <td>0.738000</td>\n",
       "      <td>1.450000</td>\n",
       "      <td>0.000000</td>\n",
       "    </tr>\n",
       "    <tr>\n",
       "      <th>25%</th>\n",
       "      <td>12.065801</td>\n",
       "      <td>6.277673</td>\n",
       "      <td>176.850538</td>\n",
       "      <td>332.770063</td>\n",
       "      <td>6.127421</td>\n",
       "      <td>317.094638</td>\n",
       "      <td>365.734414</td>\n",
       "      <td>56.647656</td>\n",
       "      <td>3.439711</td>\n",
       "      <td>0.000000</td>\n",
       "    </tr>\n",
       "    <tr>\n",
       "      <th>50%</th>\n",
       "      <td>14.218338</td>\n",
       "      <td>7.080795</td>\n",
       "      <td>196.967627</td>\n",
       "      <td>577.023297</td>\n",
       "      <td>7.130299</td>\n",
       "      <td>333.775777</td>\n",
       "      <td>421.884968</td>\n",
       "      <td>67.623691</td>\n",
       "      <td>3.955028</td>\n",
       "      <td>0.000000</td>\n",
       "    </tr>\n",
       "    <tr>\n",
       "      <th>75%</th>\n",
       "      <td>16.557652</td>\n",
       "      <td>7.870050</td>\n",
       "      <td>216.667456</td>\n",
       "      <td>1021.350263</td>\n",
       "      <td>8.114887</td>\n",
       "      <td>350.385756</td>\n",
       "      <td>481.792304</td>\n",
       "      <td>79.178816</td>\n",
       "      <td>4.500320</td>\n",
       "      <td>1.000000</td>\n",
       "    </tr>\n",
       "    <tr>\n",
       "      <th>max</th>\n",
       "      <td>28.300000</td>\n",
       "      <td>14.000000</td>\n",
       "      <td>323.124000</td>\n",
       "      <td>14348.187384</td>\n",
       "      <td>13.127000</td>\n",
       "      <td>481.030642</td>\n",
       "      <td>753.342620</td>\n",
       "      <td>333.775777</td>\n",
       "      <td>6.739000</td>\n",
       "      <td>1.000000</td>\n",
       "    </tr>\n",
       "  </tbody>\n",
       "</table>\n",
       "</div>"
      ],
      "text/plain": [
       "       carbon_level  water_ph_level  water_hardness  other_solid_precipitate  \\\n",
       "count   3276.000000     3276.000000     3276.000000              3276.000000   \n",
       "mean      14.284970        7.080795      196.369496               886.242335   \n",
       "std        3.308162        1.469956       32.879761              1102.780778   \n",
       "min        2.200000        0.000000       47.432000                 5.256757   \n",
       "25%       12.065801        6.277673      176.850538               332.770063   \n",
       "50%       14.218338        7.080795      196.967627               577.023297   \n",
       "75%       16.557652        7.870050      216.667456              1021.350263   \n",
       "max       28.300000       14.000000      323.124000             14348.187384   \n",
       "\n",
       "       Chlorine_compounds  soluble_sulphates  electrical_conductivity  \\\n",
       "count         3276.000000        3276.000000              3276.000000   \n",
       "mean             7.122277         333.775777               426.205111   \n",
       "std              1.583085          36.142612                80.824064   \n",
       "min              0.352000         129.000000               181.483754   \n",
       "25%              6.127421         317.094638               365.734414   \n",
       "50%              7.130299         333.775777               421.884968   \n",
       "75%              8.114887         350.385756               481.792304   \n",
       "max             13.127000         481.030642               753.342620   \n",
       "\n",
       "               TMH  solid_suspensions  drinkability  \n",
       "count  3276.000000        3276.000000   3276.000000  \n",
       "mean     79.618355           3.966786      0.390110  \n",
       "std      60.084944           0.780382      0.487849  \n",
       "min       0.738000           1.450000      0.000000  \n",
       "25%      56.647656           3.439711      0.000000  \n",
       "50%      67.623691           3.955028      0.000000  \n",
       "75%      79.178816           4.500320      1.000000  \n",
       "max     333.775777           6.739000      1.000000  "
      ]
     },
     "execution_count": 66,
     "metadata": {},
     "output_type": "execute_result"
    }
   ],
   "source": [
    "df.describe()"
   ]
  },
  {
   "cell_type": "code",
   "execution_count": 67,
   "metadata": {},
   "outputs": [
    {
     "data": {
      "text/plain": [
       "0    1998\n",
       "1    1278\n",
       "Name: drinkability, dtype: int64"
      ]
     },
     "execution_count": 67,
     "metadata": {},
     "output_type": "execute_result"
    }
   ],
   "source": [
    "df['drinkability'].value_counts()  "
   ]
  },
  {
   "cell_type": "markdown",
   "metadata": {},
   "source": [
    "The dataset is a balanced dataset"
   ]
  },
  {
   "cell_type": "markdown",
   "metadata": {},
   "source": [
    "### EDA"
   ]
  },
  {
   "cell_type": "code",
   "execution_count": 88,
   "metadata": {},
   "outputs": [
    {
     "data": {
      "text/plain": [
       "<AxesSubplot:>"
      ]
     },
     "execution_count": 88,
     "metadata": {},
     "output_type": "execute_result"
    },
    {
     "data": {
      "image/png": "[encoded data removed]",
      "text/plain": [
       "<Figure size 720x720 with 2 Axes>"
      ]
     },
     "metadata": {
      "needs_background": "light"
     },
     "output_type": "display_data"
    }
   ],
   "source": [
    "plt.figure(figsize=(10,10))\n",
    "sns.heatmap(data=df.drop('drinkability', axis=1).corr())"
   ]
  },
  {
   "cell_type": "markdown",
   "metadata": {},
   "source": [
    "Other solid precipitates and chlorine components are highly correlated\n",
    "dropping Other solid precipitates"
   ]
  },
  {
   "cell_type": "code",
   "execution_count": 91,
   "metadata": {},
   "outputs": [],
   "source": [
    "df.drop('other_solid_precipitate', axis=1, inplace=True)"
   ]
  },
  {
   "cell_type": "code",
   "execution_count": 92,
   "metadata": {},
   "outputs": [
    {
     "data": {
      "text/plain": [
       "<AxesSubplot:>"
      ]
     },
     "execution_count": 92,
     "metadata": {},
     "output_type": "execute_result"
    },
    {
     "data": {
      "image/png": "[encoded data removed]",
      "text/plain": [
       "<Figure size 720x720 with 2 Axes>"
      ]
     },
     "metadata": {
      "needs_background": "light"
     },
     "output_type": "display_data"
    }
   ],
   "source": [
    "plt.figure(figsize=(10,10))\n",
    "sns.heatmap(data=df.drop('drinkability', axis=1).corr())"
   ]
  },
  {
   "cell_type": "code",
   "execution_count": 122,
   "metadata": {},
   "outputs": [
    {
     "data": {
      "text/plain": [
       "'\\n\\nplt.figure(figsize=(20,10))\\nfor i in range(1,5):\\n    plt.subplot(2,2,i)\\n    sns.distplot(df[:,i-1])\\n '"
      ]
     },
     "execution_count": 122,
     "metadata": {},
     "output_type": "execute_result"
    }
   ],
   "source": [
    "'''\n",
    "\n",
    "plt.figure(figsize=(20,10))\n",
    "for i in range(1,5):\n",
    "    plt.subplot(2,2,i)\n",
    "    sns.distplot(df[:,i-1])\n",
    " '''"
   ]
  },
  {
   "cell_type": "markdown",
   "metadata": {},
   "source": [
    "### Splitting the dataset into train and test"
   ]
  },
  {
   "cell_type": "code",
   "execution_count": 104,
   "metadata": {},
   "outputs": [],
   "source": [
    "x= df.iloc[:,:8]\n",
    "y =df['drinkability']\n",
    "x_train, x_test, y_train, y_test = tts(x, y, train_size=0.7, random_state=1, stratify=y)"
   ]
  },
  {
   "cell_type": "code",
   "execution_count": 105,
   "metadata": {},
   "outputs": [
    {
     "data": {
      "text/html": [
       "<div>\n",
       "<style scoped>\n",
       "    .dataframe tbody tr th:only-of-type {\n",
       "        vertical-align: middle;\n",
       "    }\n",
       "\n",
       "    .dataframe tbody tr th {\n",
       "        vertical-align: top;\n",
       "    }\n",
       "\n",
       "    .dataframe thead th {\n",
       "        text-align: right;\n",
       "    }\n",
       "</style>\n",
       "<table border=\"1\" class=\"dataframe\">\n",
       "  <thead>\n",
       "    <tr style=\"text-align: right;\">\n",
       "      <th></th>\n",
       "      <th>carbon_level</th>\n",
       "      <th>water_ph_level</th>\n",
       "      <th>water_hardness</th>\n",
       "      <th>Chlorine_compounds</th>\n",
       "      <th>soluble_sulphates</th>\n",
       "      <th>electrical_conductivity</th>\n",
       "      <th>TMH</th>\n",
       "      <th>solid_suspensions</th>\n",
       "    </tr>\n",
       "  </thead>\n",
       "  <tbody>\n",
       "    <tr>\n",
       "      <th>2375</th>\n",
       "      <td>12.877960</td>\n",
       "      <td>8.039697</td>\n",
       "      <td>233.856219</td>\n",
       "      <td>8.293018</td>\n",
       "      <td>333.775777</td>\n",
       "      <td>461.209780</td>\n",
       "      <td>68.750868</td>\n",
       "      <td>3.826063</td>\n",
       "    </tr>\n",
       "    <tr>\n",
       "      <th>1467</th>\n",
       "      <td>13.984156</td>\n",
       "      <td>7.080795</td>\n",
       "      <td>250.572683</td>\n",
       "      <td>7.287605</td>\n",
       "      <td>345.109962</td>\n",
       "      <td>426.103715</td>\n",
       "      <td>60.159730</td>\n",
       "      <td>6.099632</td>\n",
       "    </tr>\n",
       "    <tr>\n",
       "      <th>34</th>\n",
       "      <td>17.130158</td>\n",
       "      <td>8.903734</td>\n",
       "      <td>194.216275</td>\n",
       "      <td>5.566896</td>\n",
       "      <td>323.424362</td>\n",
       "      <td>317.349244</td>\n",
       "      <td>61.428791</td>\n",
       "      <td>4.365170</td>\n",
       "    </tr>\n",
       "    <tr>\n",
       "      <th>142</th>\n",
       "      <td>14.154110</td>\n",
       "      <td>5.873157</td>\n",
       "      <td>153.673381</td>\n",
       "      <td>9.752879</td>\n",
       "      <td>319.356743</td>\n",
       "      <td>352.456041</td>\n",
       "      <td>65.234629</td>\n",
       "      <td>5.120888</td>\n",
       "    </tr>\n",
       "    <tr>\n",
       "      <th>1363</th>\n",
       "      <td>17.517283</td>\n",
       "      <td>8.828094</td>\n",
       "      <td>196.562853</td>\n",
       "      <td>8.940380</td>\n",
       "      <td>379.914286</td>\n",
       "      <td>486.863267</td>\n",
       "      <td>61.182844</td>\n",
       "      <td>3.793318</td>\n",
       "    </tr>\n",
       "    <tr>\n",
       "      <th>...</th>\n",
       "      <td>...</td>\n",
       "      <td>...</td>\n",
       "      <td>...</td>\n",
       "      <td>...</td>\n",
       "      <td>...</td>\n",
       "      <td>...</td>\n",
       "      <td>...</td>\n",
       "      <td>...</td>\n",
       "    </tr>\n",
       "    <tr>\n",
       "      <th>720</th>\n",
       "      <td>19.578273</td>\n",
       "      <td>7.091886</td>\n",
       "      <td>221.191476</td>\n",
       "      <td>5.134960</td>\n",
       "      <td>333.775777</td>\n",
       "      <td>515.059986</td>\n",
       "      <td>62.627330</td>\n",
       "      <td>5.116407</td>\n",
       "    </tr>\n",
       "    <tr>\n",
       "      <th>2054</th>\n",
       "      <td>16.548438</td>\n",
       "      <td>7.381758</td>\n",
       "      <td>203.460302</td>\n",
       "      <td>11.129154</td>\n",
       "      <td>475.737460</td>\n",
       "      <td>361.342496</td>\n",
       "      <td>55.132546</td>\n",
       "      <td>3.338022</td>\n",
       "    </tr>\n",
       "    <tr>\n",
       "      <th>2849</th>\n",
       "      <td>12.896953</td>\n",
       "      <td>6.106760</td>\n",
       "      <td>211.454489</td>\n",
       "      <td>8.316897</td>\n",
       "      <td>348.776719</td>\n",
       "      <td>389.591440</td>\n",
       "      <td>85.358049</td>\n",
       "      <td>3.924967</td>\n",
       "    </tr>\n",
       "    <tr>\n",
       "      <th>1338</th>\n",
       "      <td>11.440747</td>\n",
       "      <td>7.717077</td>\n",
       "      <td>211.681327</td>\n",
       "      <td>6.987854</td>\n",
       "      <td>268.944957</td>\n",
       "      <td>495.914919</td>\n",
       "      <td>85.051546</td>\n",
       "      <td>4.967976</td>\n",
       "    </tr>\n",
       "    <tr>\n",
       "      <th>1994</th>\n",
       "      <td>15.047019</td>\n",
       "      <td>5.808239</td>\n",
       "      <td>195.514516</td>\n",
       "      <td>7.368819</td>\n",
       "      <td>281.918918</td>\n",
       "      <td>325.831360</td>\n",
       "      <td>51.294792</td>\n",
       "      <td>4.819064</td>\n",
       "    </tr>\n",
       "  </tbody>\n",
       "</table>\n",
       "<p>2293 rows × 8 columns</p>\n",
       "</div>"
      ],
      "text/plain": [
       "      carbon_level  water_ph_level  water_hardness  Chlorine_compounds  \\\n",
       "2375     12.877960        8.039697      233.856219            8.293018   \n",
       "1467     13.984156        7.080795      250.572683            7.287605   \n",
       "34       17.130158        8.903734      194.216275            5.566896   \n",
       "142      14.154110        5.873157      153.673381            9.752879   \n",
       "1363     17.517283        8.828094      196.562853            8.940380   \n",
       "...            ...             ...             ...                 ...   \n",
       "720      19.578273        7.091886      221.191476            5.134960   \n",
       "2054     16.548438        7.381758      203.460302           11.129154   \n",
       "2849     12.896953        6.106760      211.454489            8.316897   \n",
       "1338     11.440747        7.717077      211.681327            6.987854   \n",
       "1994     15.047019        5.808239      195.514516            7.368819   \n",
       "\n",
       "      soluble_sulphates  electrical_conductivity        TMH  solid_suspensions  \n",
       "2375         333.775777               461.209780  68.750868           3.826063  \n",
       "1467         345.109962               426.103715  60.159730           6.099632  \n",
       "34           323.424362               317.349244  61.428791           4.365170  \n",
       "142          319.356743               352.456041  65.234629           5.120888  \n",
       "1363         379.914286               486.863267  61.182844           3.793318  \n",
       "...                 ...                      ...        ...                ...  \n",
       "720          333.775777               515.059986  62.627330           5.116407  \n",
       "2054         475.737460               361.342496  55.132546           3.338022  \n",
       "2849         348.776719               389.591440  85.358049           3.924967  \n",
       "1338         268.944957               495.914919  85.051546           4.967976  \n",
       "1994         281.918918               325.831360  51.294792           4.819064  \n",
       "\n",
       "[2293 rows x 8 columns]"
      ]
     },
     "execution_count": 105,
     "metadata": {},
     "output_type": "execute_result"
    }
   ],
   "source": [
    "x_train"
   ]
  },
  {
   "cell_type": "markdown",
   "metadata": {},
   "source": [
    "### Scaing the data"
   ]
  },
  {
   "cell_type": "code",
   "execution_count": 106,
   "metadata": {},
   "outputs": [],
   "source": [
    "scaler = MinMaxScaler(feature_range=(0, 1))\n",
    "\n",
    "x_train_scaled = scaler.fit_transform(x_train)\n",
    "X_train = pd.DataFrame(data=x_train_scaled, columns = list(x_train.columns))\n",
    "x_test_scaled = scaler.transform(x_test)\n",
    "X_test = pd.DataFrame(data=x_test_scaled, columns = list(x_test.columns))\n",
    "\n"
   ]
  },
  {
   "cell_type": "markdown",
   "metadata": {},
   "source": [
    "# KNN Classifier"
   ]
  },
  {
   "cell_type": "code",
   "execution_count": 107,
   "metadata": {},
   "outputs": [],
   "source": [
    "#model = RandomizedSearchCV(knn,params,cv=cvals)\n",
    "knn= KNeighborsClassifier(n_neighbors=5)\n",
    "knn.fit(X_train ,y_train)\n",
    "y_pred = knn.predict(X_test)"
   ]
  },
  {
   "cell_type": "markdown",
   "metadata": {},
   "source": [
    "### Confusion matrix, Classification Report and Accuracy Score"
   ]
  },
  {
   "cell_type": "code",
   "execution_count": 108,
   "metadata": {},
   "outputs": [
    {
     "name": "stdout",
     "output_type": "stream",
     "text": [
      "[[456 144]\n",
      " [243 140]]\n",
      "              precision    recall  f1-score   support\n",
      "\n",
      "           0       0.65      0.76      0.70       600\n",
      "           1       0.49      0.37      0.42       383\n",
      "\n",
      "    accuracy                           0.61       983\n",
      "   macro avg       0.57      0.56      0.56       983\n",
      "weighted avg       0.59      0.61      0.59       983\n",
      "\n",
      "60.63072227873856\n"
     ]
    }
   ],
   "source": [
    "print(confusion_matrix(y_test , y_pred))\n",
    "print(classification_report(y_test , y_pred))\n",
    "print(accuracy_score(y_test,y_pred)*100) "
   ]
  },
  {
   "cell_type": "markdown",
   "metadata": {},
   "source": [
    "# Naive Bayes Classifier"
   ]
  },
  {
   "cell_type": "code",
   "execution_count": 109,
   "metadata": {},
   "outputs": [],
   "source": [
    "from sklearn.model_selection import cross_val_score\n",
    "nb = GaussianNB()\n",
    "\n",
    "nb.fit(X_train, y_train)\n",
    "y_pred = nb.predict(X_test)"
   ]
  },
  {
   "cell_type": "code",
   "execution_count": 110,
   "metadata": {},
   "outputs": [
    {
     "name": "stdout",
     "output_type": "stream",
     "text": [
      "[[525  75]\n",
      " [297  86]]\n",
      "              precision    recall  f1-score   support\n",
      "\n",
      "           0       0.64      0.88      0.74       600\n",
      "           1       0.53      0.22      0.32       383\n",
      "\n",
      "    accuracy                           0.62       983\n",
      "   macro avg       0.59      0.55      0.53       983\n",
      "weighted avg       0.60      0.62      0.57       983\n",
      "\n",
      "62.156663275686675\n"
     ]
    }
   ],
   "source": [
    "print(confusion_matrix(y_test, y_pred))\n",
    "print(classification_report(y_test,y_pred))\n",
    "print(accuracy_score(y_test,y_pred)*100)"
   ]
  },
  {
   "cell_type": "code",
   "execution_count": 111,
   "metadata": {},
   "outputs": [],
   "source": [
    "logreg =LogisticRegression()\n",
    "#logreg.fit(upsampled_X,upsampled_Y )\n",
    "logreg.fit(X_train ,y_train)\n",
    "y_pred = logreg.predict(X_test)"
   ]
  },
  {
   "cell_type": "code",
   "execution_count": 112,
   "metadata": {},
   "outputs": [
    {
     "name": "stdout",
     "output_type": "stream",
     "text": [
      "[[600   0]\n",
      " [383   0]]\n",
      "              precision    recall  f1-score   support\n",
      "\n",
      "           0       0.61      1.00      0.76       600\n",
      "           1       0.00      0.00      0.00       383\n",
      "\n",
      "    accuracy                           0.61       983\n",
      "   macro avg       0.31      0.50      0.38       983\n",
      "weighted avg       0.37      0.61      0.46       983\n",
      "\n",
      "61.03763987792472\n"
     ]
    },
    {
     "name": "stderr",
     "output_type": "stream",
     "text": [
      "C:\\IDE\\Anaconda\\lib\\site-packages\\sklearn\\metrics\\_classification.py:1221: UndefinedMetricWarning: Precision and F-score are ill-defined and being set to 0.0 in labels with no predicted samples. Use `zero_division` parameter to control this behavior.\n",
      "  _warn_prf(average, modifier, msg_start, len(result))\n"
     ]
    }
   ],
   "source": [
    "print(confusion_matrix(y_test, y_pred))\n",
    "print(classification_report(y_test,y_pred))\n",
    "print(accuracy_score(y_test,y_pred)*100)"
   ]
  },
  {
   "cell_type": "markdown",
   "metadata": {},
   "source": [
    "# Decision Tree"
   ]
  },
  {
   "cell_type": "code",
   "execution_count": 113,
   "metadata": {},
   "outputs": [],
   "source": [
    "decision_tree =DecisionTreeClassifier()\n",
    "#decision_tree.fit(upsampled_X,upsampled_Y )\n",
    "decision_tree.fit(X_train ,y_train)\n",
    "y_pred = decision_tree.predict(X_test)"
   ]
  },
  {
   "cell_type": "code",
   "execution_count": 114,
   "metadata": {},
   "outputs": [
    {
     "name": "stdout",
     "output_type": "stream",
     "text": [
      "[[386 214]\n",
      " [200 183]]\n",
      "              precision    recall  f1-score   support\n",
      "\n",
      "           0       0.66      0.64      0.65       600\n",
      "           1       0.46      0.48      0.47       383\n",
      "\n",
      "    accuracy                           0.58       983\n",
      "   macro avg       0.56      0.56      0.56       983\n",
      "weighted avg       0.58      0.58      0.58       983\n",
      "\n",
      "57.88402848423194\n"
     ]
    }
   ],
   "source": [
    "print(confusion_matrix(y_test, y_pred))\n",
    "print(classification_report(y_test,y_pred))\n",
    "print(accuracy_score(y_test,y_pred)*100)"
   ]
  },
  {
   "cell_type": "code",
   "execution_count": 132,
   "metadata": {},
   "outputs": [
    {
     "data": {
      "text/plain": [
       "\"\\nboost_tree = AdaBoostClassifier(base_estimator=tree, n_estimators=150, random_state=1234, algorithm:{'SAMME'})\\n\""
      ]
     },
     "execution_count": 132,
     "metadata": {},
     "output_type": "execute_result"
    }
   ],
   "source": [
    "'''\n",
    "boost_tree = AdaBoostClassifier(base_estimator=tree, n_estimators=150, random_state=1234, algorithm:{'SAMME'})\n",
    "'''\n"
   ]
  },
  {
   "cell_type": "code",
   "execution_count": 129,
   "metadata": {},
   "outputs": [
    {
     "data": {
      "text/plain": [
       "'\\n\\nboost_tree.fit(X_train, y_train)\\nconfusion_matrix(y_test, boost_tree.predict(X_test))\\n'"
      ]
     },
     "execution_count": 129,
     "metadata": {},
     "output_type": "execute_result"
    }
   ],
   "source": [
    "'''\n",
    "\n",
    "boost_tree.fit(X_train, y_train)\n",
    "confusion_matrix(y_test, boost_tree.predict(X_test))\n",
    "'''"
   ]
  },
  {
   "cell_type": "markdown",
   "metadata": {},
   "source": [
    "#### Precision  Recall, Confusion matrics can be metrics that can be used to analyse results"
   ]
  },
  {
   "cell_type": "code",
   "execution_count": null,
   "metadata": {},
   "outputs": [],
   "source": []
  }
 ],
 "metadata": {
  "kernelspec": {
   "display_name": "Python 3",
   "language": "python",
   "name": "python3"
  },
  "language_info": {
   "codemirror_mode": {
    "name": "ipython",
    "version": 3
   },
   "file_extension": ".py",
   "mimetype": "text/x-python",
   "name": "python",
   "nbconvert_exporter": "python",
   "pygments_lexer": "ipython3",
   "version": "3.7.9"
  }
 },
 "nbformat": 4,
 "nbformat_minor": 4
}
