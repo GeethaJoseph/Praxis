{
 "cells": [
  {
   "cell_type": "code",
   "execution_count": 33,
   "metadata": {},
   "outputs": [],
   "source": [
    "#Selenium is slower, so scrapy can be used. But scrapy is more complicated\n",
    "#Beautiful soup works well when there is link and not script\n",
    "#Selenium used websites with javascript and "
   ]
  },
  {
   "cell_type": "code",
   "execution_count": 83,
   "metadata": {},
   "outputs": [
    {
     "name": "stdout",
     "output_type": "stream",
     "text": [
      "Requirement already satisfied: selenium in c:\\users\\user\\appdata\\roaming\\python\\python37\\site-packages (3.141.0)\n",
      "Requirement already satisfied: urllib3 in c:\\ide\\anaconda\\lib\\site-packages (from selenium) (1.25.8)\n",
      "Note: you may need to restart the kernel to use updated packages.\n"
     ]
    }
   ],
   "source": [
    "pip install selenium --user"
   ]
  },
  {
   "cell_type": "code",
   "execution_count": 84,
   "metadata": {},
   "outputs": [],
   "source": [
    "from selenium.webdriver import Chrome"
   ]
  },
  {
   "cell_type": "code",
   "execution_count": 85,
   "metadata": {},
   "outputs": [],
   "source": [
    "browser = Chrome(executable_path = 'chromedriver.exe')"
   ]
  },
  {
   "cell_type": "code",
   "execution_count": 86,
   "metadata": {},
   "outputs": [],
   "source": [
    "browser.get(\"https://www.imdb.com/title/tt9777666/reviews?ref_=tt_ov_rt\")"
   ]
  },
  {
   "cell_type": "code",
   "execution_count": 87,
   "metadata": {},
   "outputs": [],
   "source": [
    "browser.find_element_by_xpath(\"//button[@class = 'ipl-load-more__button']\").click()"
   ]
  },
  {
   "cell_type": "code",
   "execution_count": 88,
   "metadata": {},
   "outputs": [],
   "source": [
    "#xx[1].click()"
   ]
  },
  {
   "cell_type": "code",
   "execution_count": 89,
   "metadata": {},
   "outputs": [],
   "source": [
    "#all the instances\n",
    "xx = browser.find_elements_by_xpath(\"//div[@class='expander-icon-wrapper spoiler-warning__control']\")"
   ]
  },
  {
   "cell_type": "code",
   "execution_count": 90,
   "metadata": {},
   "outputs": [],
   "source": [
    "def click(p):\n",
    "   try:\n",
    "      p.click()\n",
    "   except:\n",
    "      pass\n"
   ]
  },
  {
   "cell_type": "code",
   "execution_count": 91,
   "metadata": {},
   "outputs": [
    {
     "data": {
      "text/plain": [
       "9"
      ]
     },
     "execution_count": 91,
     "metadata": {},
     "output_type": "execute_result"
    }
   ],
   "source": [
    "q=[click(y) for y in xx]\n",
    "len(q)"
   ]
  },
  {
   "cell_type": "code",
   "execution_count": 92,
   "metadata": {},
   "outputs": [],
   "source": [
    "yy =browser.find_elements_by_xpath(\"//div[@class='expander-icon-wrapper spoiler-warning__control']\")"
   ]
  },
  {
   "cell_type": "code",
   "execution_count": 93,
   "metadata": {},
   "outputs": [],
   "source": [
    "z=[click(y) for y in yy]"
   ]
  },
  {
   "cell_type": "code",
   "execution_count": 94,
   "metadata": {},
   "outputs": [
    {
     "data": {
      "text/plain": [
       "9"
      ]
     },
     "execution_count": 94,
     "metadata": {},
     "output_type": "execute_result"
    }
   ],
   "source": [
    "len(z)"
   ]
  },
  {
   "cell_type": "code",
   "execution_count": 95,
   "metadata": {},
   "outputs": [],
   "source": [
    "containers = browser.find_elements_by_xpath(\"//div[@class='review-container']\")"
   ]
  },
  {
   "cell_type": "code",
   "execution_count": 96,
   "metadata": {},
   "outputs": [
    {
     "data": {
      "text/plain": [
       "50"
      ]
     },
     "execution_count": 96,
     "metadata": {},
     "output_type": "execute_result"
    }
   ],
   "source": [
    "len(containers)"
   ]
  },
  {
   "cell_type": "code",
   "execution_count": 97,
   "metadata": {},
   "outputs": [],
   "source": [
    "container = containers[0]"
   ]
  },
  {
   "cell_type": "code",
   "execution_count": 98,
   "metadata": {},
   "outputs": [
    {
     "data": {
      "text/plain": [
       "'\\n        <div class=\"lister-item-content\">\\n    <div class=\"ipl-ratings-bar\">\\n            <span class=\"rating-other-user-rating\">\\n            <svg class=\"ipl-icon ipl-star-icon  \" xmlns=\"http://www.w3.org/2000/svg\" fill=\"#000000\" height=\"24\" viewBox=\"0 0 24 24\" width=\"24\">\\n                <path d=\"M0 0h24v24H0z\" fill=\"none\"></path>\\n                <path d=\"M12 17.27L18.18 21l-1.64-7.03L22 9.24l-7.19-.61L12 2 9.19 8.63 2 9.24l5.46 4.73L5.82 21z\"></path>\\n                <path d=\"M0 0h24v24H0z\" fill=\"none\"></path>\\n            </svg>\\n                <span>6</span><span class=\"point-scale\">/10</span>\\n            </span>\\n    </div>\\n<a href=\"/review/rw7085191/?ref_=tt_urv\" class=\"title\"> One thing I just can\\'t get over..\\n</a>            <div class=\"display-name-date\">\\n                    <span class=\"display-name-link\"><a href=\"/user/ur102857718/?ref_=tt_urv\">mackiesander</a></span><span class=\"review-date\">3 July 2021</span>\\n            </div>\\n                <span class=\"spoiler-warning\">Warning: Spoilers</span>\\n    <div class=\"actions text-muted\">\\n                    1,132 out of 1,362 found this helpful.\\n                        <span>\\n                            Was this review helpful? <a href=\"/registration/signin?ref_=urv\"> Sign in</a> to vote.\\n                        </span>\\n                        <br>\\n                    <a href=\"/review/rw7085191/?ref_=tt_urv\">Permalink</a>\\n                </div><div class=\"ipl-expander\">\\n        <div class=\"ipl-expander__container\">\\n            <div class=\"expander-icon-wrapper spoiler-warning__control\">\\n                <svg class=\"ipl-expander__icon expander-icon \" width=\"12\" height=\"8\" viewBox=\"0 0 12 8\" xmlns=\"http://www.w3.org/2000/svg\">\\n                     <path d=\"M10.197 0L6 4.304 1.803 0 0 1.85 6 8l6-6.15\" fill=\"#2572B3\" fill-rule=\"evenodd\"></path>\\n                </svg>\\n            </div>\\n        </div>\\n    </div>\\n            <div class=\"content\" style=\"max-height: 0px;\">\\n                <div class=\"text show-more__control\">Acting was great, the concept was cool, the pace was fast and tense and exciting and honestly the cgi was so naturalistic and beautifully done, that I think the cgi alone makes this movie worth watching. BUT *spoilers ahead* I had so many issues with the basic logic in the plot. Once future Muri dies, basically nothing made any sense to me. Chris Pratt bringing the toxin back in time would erase future Muri\\'s timeline regardless of what he did with the toxin so he was never going to be able to go back there. I had assumed the whole time that their plan was to bring the toxin back in time and then just kill the aliens with it when they showed up in Chris\\'s timeline and then just solve the problem for humanity as a whole because of course Muri\\'s timeline will never be saved because that\\'s not how the writers decided time travel works. But of course, then Chris Pratt just kept telling us how he\\'s going to go back to future muri and save those 500,000 people instead of the other 8 billion, or about how \"he\\'s running out of time\" to stop the frozen aliens who we very well know aren\\'t going to wake up for another 30 years, and god damn him just running in to their space ship blindly and trying to take them on with their small ragtag crew instead of spending some portion of their next 30 safe years planning how to deal with the aliens safely just was like wait what!! Stop! Bring more people at the very least! Everyone in the world was convinced that \"people from the future came back and need help fighting aliens\" but they\\'re not going to believe that you found those aliens in a glacier??????????????? And I love how the toxin that was supposed to save humanity killed like 6 of the aliens in total, and they wound up just blowing the spaceship up instead.</div>\\n                \\n            </div>\\n        </div>\\n        <div class=\"clear\"></div>\\n    '"
      ]
     },
     "execution_count": 98,
     "metadata": {},
     "output_type": "execute_result"
    }
   ],
   "source": [
    "container.get_attribute(\"innerHTML\")"
   ]
  },
  {
   "cell_type": "code",
   "execution_count": 99,
   "metadata": {},
   "outputs": [],
   "source": [
    "from bs4 import BeautifulSoup"
   ]
  },
  {
   "cell_type": "code",
   "execution_count": 100,
   "metadata": {},
   "outputs": [],
   "source": [
    "bsobj = BeautifulSoup(container.get_attribute(\"innerHTML\"))"
   ]
  },
  {
   "cell_type": "code",
   "execution_count": 101,
   "metadata": {},
   "outputs": [
    {
     "data": {
      "text/plain": [
       "'6/10'"
      ]
     },
     "execution_count": 101,
     "metadata": {},
     "output_type": "execute_result"
    }
   ],
   "source": [
    "import re\n",
    "re.sub(\"\\\\n\", \"\",bsobj.find('span', attrs={'class':'rating-other-user-rating'}).text)"
   ]
  },
  {
   "cell_type": "code",
   "execution_count": 102,
   "metadata": {},
   "outputs": [
    {
     "data": {
      "text/plain": [
       "'Acting was great, the concept was cool, the pace was fast and tense and exciting and honestly the cgi was so naturalistic and beautifully done, that I think the cgi alone makes this movie worth watching. BUT *spoilers ahead* I had so many issues with the basic logic in the plot. Once future Muri dies, basically nothing made any sense to me. Chris Pratt bringing the toxin back in time would erase future Muri\\'s timeline regardless of what he did with the toxin so he was never going to be able to go back there. I had assumed the whole time that their plan was to bring the toxin back in time and then just kill the aliens with it when they showed up in Chris\\'s timeline and then just solve the problem for humanity as a whole because of course Muri\\'s timeline will never be saved because that\\'s not how the writers decided time travel works. But of course, then Chris Pratt just kept telling us how he\\'s going to go back to future muri and save those 500,000 people instead of the other 8 billion, or about how \"he\\'s running out of time\" to stop the frozen aliens who we very well know aren\\'t going to wake up for another 30 years, and god damn him just running in to their space ship blindly and trying to take them on with their small ragtag crew instead of spending some portion of their next 30 safe years planning how to deal with the aliens safely just was like wait what!! Stop! Bring more people at the very least! Everyone in the world was convinced that \"people from the future came back and need help fighting aliens\" but they\\'re not going to believe that you found those aliens in a glacier??????????????? And I love how the toxin that was supposed to save humanity killed like 6 of the aliens in total, and they wound up just blowing the spaceship up instead.'"
      ]
     },
     "execution_count": 102,
     "metadata": {},
     "output_type": "execute_result"
    }
   ],
   "source": [
    "bsobj.find('div', attrs={'class':'text show-more__control'}).text"
   ]
  },
  {
   "cell_type": "code",
   "execution_count": 103,
   "metadata": {},
   "outputs": [
    {
     "ename": "AttributeError",
     "evalue": "'NoneType' object has no attribute 'text'",
     "output_type": "error",
     "traceback": [
      "\u001b[1;31m---------------------------------------------------------------------------\u001b[0m",
      "\u001b[1;31mAttributeError\u001b[0m                            Traceback (most recent call last)",
      "\u001b[1;32m<ipython-input-103-5b2a467e7097>\u001b[0m in \u001b[0;36m<module>\u001b[1;34m\u001b[0m\n\u001b[0;32m      6\u001b[0m     \u001b[0mbsobj\u001b[0m \u001b[1;33m=\u001b[0m \u001b[0mBeautifulSoup\u001b[0m\u001b[1;33m(\u001b[0m\u001b[0mcontainer\u001b[0m\u001b[1;33m.\u001b[0m\u001b[0mget_attribute\u001b[0m\u001b[1;33m(\u001b[0m\u001b[1;34m\"innerHTML\"\u001b[0m\u001b[1;33m)\u001b[0m\u001b[1;33m)\u001b[0m\u001b[1;33m\u001b[0m\u001b[1;33m\u001b[0m\u001b[0m\n\u001b[0;32m      7\u001b[0m     \u001b[0mre\u001b[0m\u001b[1;33m.\u001b[0m\u001b[0msub\u001b[0m\u001b[1;33m(\u001b[0m\u001b[1;34m\"\\\\n\"\u001b[0m\u001b[1;33m,\u001b[0m \u001b[1;34m\"\"\u001b[0m\u001b[1;33m,\u001b[0m\u001b[0mbsobj\u001b[0m\u001b[1;33m.\u001b[0m\u001b[0mfind\u001b[0m\u001b[1;33m(\u001b[0m\u001b[1;34m'span'\u001b[0m\u001b[1;33m,\u001b[0m \u001b[0mattrs\u001b[0m\u001b[1;33m=\u001b[0m\u001b[1;33m{\u001b[0m\u001b[1;34m'class'\u001b[0m\u001b[1;33m:\u001b[0m\u001b[1;34m'rating-other-user-rating'\u001b[0m\u001b[1;33m}\u001b[0m\u001b[1;33m)\u001b[0m\u001b[1;33m.\u001b[0m\u001b[0mtext\u001b[0m\u001b[1;33m)\u001b[0m\u001b[1;33m\u001b[0m\u001b[1;33m\u001b[0m\u001b[0m\n\u001b[1;32m----> 8\u001b[1;33m     \u001b[0mbsobj\u001b[0m\u001b[1;33m.\u001b[0m\u001b[0mfind\u001b[0m\u001b[1;33m(\u001b[0m\u001b[1;34m'div'\u001b[0m\u001b[1;33m,\u001b[0m \u001b[0mattrs\u001b[0m\u001b[1;33m=\u001b[0m\u001b[1;33m{\u001b[0m\u001b[1;34m'class'\u001b[0m\u001b[1;33m:\u001b[0m\u001b[1;34m'text show-more__control'\u001b[0m\u001b[1;33m}\u001b[0m\u001b[1;33m)\u001b[0m\u001b[1;33m.\u001b[0m\u001b[0mtext\u001b[0m\u001b[1;33m\u001b[0m\u001b[1;33m\u001b[0m\u001b[0m\n\u001b[0m\u001b[0;32m      9\u001b[0m     \u001b[0mIMDB\u001b[0m\u001b[1;33m[\u001b[0m\u001b[1;34m'Rate'\u001b[0m\u001b[1;33m]\u001b[0m \u001b[1;33m=\u001b[0m\u001b[0mre\u001b[0m\u001b[1;33m.\u001b[0m\u001b[0msub\u001b[0m\u001b[1;33m(\u001b[0m\u001b[1;34m\"\\\\n\"\u001b[0m\u001b[1;33m,\u001b[0m \u001b[1;34m\"\"\u001b[0m\u001b[1;33m,\u001b[0m\u001b[0mbsobj\u001b[0m\u001b[1;33m.\u001b[0m\u001b[0mfind\u001b[0m\u001b[1;33m(\u001b[0m\u001b[1;34m'span'\u001b[0m\u001b[1;33m,\u001b[0m \u001b[0mattrs\u001b[0m\u001b[1;33m=\u001b[0m\u001b[1;33m{\u001b[0m\u001b[1;34m'class'\u001b[0m\u001b[1;33m:\u001b[0m\u001b[1;34m'rating-other-user-rating'\u001b[0m\u001b[1;33m}\u001b[0m\u001b[1;33m)\u001b[0m\u001b[1;33m.\u001b[0m\u001b[0mtext\u001b[0m\u001b[1;33m)\u001b[0m\u001b[1;33m\u001b[0m\u001b[1;33m\u001b[0m\u001b[0m\n",
      "\u001b[1;31mAttributeError\u001b[0m: 'NoneType' object has no attribute 'text'"
     ]
    }
   ],
   "source": [
    "import pandas as pd\n",
    "IMDB = pd.DataFrame()\n",
    "\n",
    "for container in containers:\n",
    "    container.get_attribute(\"innerHTML\")\n",
    "    bsobj = BeautifulSoup(container.get_attribute(\"innerHTML\"))\n",
    "    re.sub(\"\\\\n\", \"\",bsobj.find('span', attrs={'class':'rating-other-user-rating'}).text)\n",
    "    bsobj.find('div', attrs={'class':'text show-more__control'}).text\n",
    "    IMDB['Rate'] =re.sub(\"\\\\n\", \"\",bsobj.find('span', attrs={'class':'rating-other-user-rating'}).text)"
   ]
  },
  {
   "cell_type": "code",
   "execution_count": null,
   "metadata": {},
   "outputs": [],
   "source": [
    "IMDB\n"
   ]
  },
  {
   "cell_type": "code",
   "execution_count": null,
   "metadata": {},
   "outputs": [],
   "source": []
  }
 ],
 "metadata": {
  "kernelspec": {
   "display_name": "Python 3",
   "language": "python",
   "name": "python3"
  },
  "language_info": {
   "codemirror_mode": {
    "name": "ipython",
    "version": 3
   },
   "file_extension": ".py",
   "mimetype": "text/x-python",
   "name": "python",
   "nbconvert_exporter": "python",
   "pygments_lexer": "ipython3",
   "version": "3.7.6"
  }
 },
 "nbformat": 4,
 "nbformat_minor": 4
}
