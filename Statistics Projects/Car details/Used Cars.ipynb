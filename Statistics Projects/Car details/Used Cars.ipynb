{
 "cells": [
  {
   "cell_type": "code",
   "execution_count": 394,
   "metadata": {},
   "outputs": [],
   "source": [
    "import pandas as pd\n",
    "import seaborn as sns\n",
    "import statsmodels.api as sm\n",
    "import matplotlib.pyplot as plt\n",
    "from sklearn.model_selection import train_test_split\n",
    "from scipy import stats\n",
    "import numpy as np\n",
    "import seaborn as sns\n",
    "from scipy.stats import chi2_contingency\n",
    "from sklearn.metrics import mean_squared_error as mse\n",
    "from statsmodels.stats.stattools import durbin_watson\n",
    "from sklearn.linear_model import LinearRegression"
   ]
  },
  {
   "cell_type": "code",
   "execution_count": 313,
   "metadata": {},
   "outputs": [],
   "source": [
    "df_car = pd.read_csv('CAR DETAILS.csv')"
   ]
  },
  {
   "cell_type": "code",
   "execution_count": 314,
   "metadata": {},
   "outputs": [
    {
     "name": "stdout",
     "output_type": "stream",
     "text": [
      "<class 'pandas.core.frame.DataFrame'>\n",
      "RangeIndex: 4340 entries, 0 to 4339\n",
      "Data columns (total 8 columns):\n",
      " #   Column         Non-Null Count  Dtype \n",
      "---  ------         --------------  ----- \n",
      " 0   name           4340 non-null   object\n",
      " 1   year           4340 non-null   int64 \n",
      " 2   selling_price  4340 non-null   int64 \n",
      " 3   km_driven      4340 non-null   int64 \n",
      " 4   fuel           4340 non-null   object\n",
      " 5   seller_type    4340 non-null   object\n",
      " 6   transmission   4340 non-null   object\n",
      " 7   owner          4340 non-null   object\n",
      "dtypes: int64(3), object(5)\n",
      "memory usage: 271.4+ KB\n"
     ]
    }
   ],
   "source": [
    "df_car.info()"
   ]
  },
  {
   "cell_type": "code",
   "execution_count": 315,
   "metadata": {},
   "outputs": [
    {
     "data": {
      "text/html": [
       "<div>\n",
       "<style scoped>\n",
       "    .dataframe tbody tr th:only-of-type {\n",
       "        vertical-align: middle;\n",
       "    }\n",
       "\n",
       "    .dataframe tbody tr th {\n",
       "        vertical-align: top;\n",
       "    }\n",
       "\n",
       "    .dataframe thead th {\n",
       "        text-align: right;\n",
       "    }\n",
       "</style>\n",
       "<table border=\"1\" class=\"dataframe\">\n",
       "  <thead>\n",
       "    <tr style=\"text-align: right;\">\n",
       "      <th></th>\n",
       "      <th>name</th>\n",
       "      <th>year</th>\n",
       "      <th>selling_price</th>\n",
       "      <th>km_driven</th>\n",
       "      <th>fuel</th>\n",
       "      <th>seller_type</th>\n",
       "      <th>transmission</th>\n",
       "      <th>owner</th>\n",
       "    </tr>\n",
       "  </thead>\n",
       "  <tbody>\n",
       "    <tr>\n",
       "      <th>0</th>\n",
       "      <td>Maruti 800 AC</td>\n",
       "      <td>2007</td>\n",
       "      <td>60000</td>\n",
       "      <td>70000</td>\n",
       "      <td>Petrol</td>\n",
       "      <td>Individual</td>\n",
       "      <td>Manual</td>\n",
       "      <td>First Owner</td>\n",
       "    </tr>\n",
       "    <tr>\n",
       "      <th>1</th>\n",
       "      <td>Maruti Wagon R LXI Minor</td>\n",
       "      <td>2007</td>\n",
       "      <td>135000</td>\n",
       "      <td>50000</td>\n",
       "      <td>Petrol</td>\n",
       "      <td>Individual</td>\n",
       "      <td>Manual</td>\n",
       "      <td>First Owner</td>\n",
       "    </tr>\n",
       "    <tr>\n",
       "      <th>2</th>\n",
       "      <td>Hyundai Verna 1.6 SX</td>\n",
       "      <td>2012</td>\n",
       "      <td>600000</td>\n",
       "      <td>100000</td>\n",
       "      <td>Diesel</td>\n",
       "      <td>Individual</td>\n",
       "      <td>Manual</td>\n",
       "      <td>First Owner</td>\n",
       "    </tr>\n",
       "    <tr>\n",
       "      <th>3</th>\n",
       "      <td>Datsun RediGO T Option</td>\n",
       "      <td>2017</td>\n",
       "      <td>250000</td>\n",
       "      <td>46000</td>\n",
       "      <td>Petrol</td>\n",
       "      <td>Individual</td>\n",
       "      <td>Manual</td>\n",
       "      <td>First Owner</td>\n",
       "    </tr>\n",
       "    <tr>\n",
       "      <th>4</th>\n",
       "      <td>Honda Amaze VX i-DTEC</td>\n",
       "      <td>2014</td>\n",
       "      <td>450000</td>\n",
       "      <td>141000</td>\n",
       "      <td>Diesel</td>\n",
       "      <td>Individual</td>\n",
       "      <td>Manual</td>\n",
       "      <td>Second Owner</td>\n",
       "    </tr>\n",
       "  </tbody>\n",
       "</table>\n",
       "</div>"
      ],
      "text/plain": [
       "                       name  year  selling_price  km_driven    fuel  \\\n",
       "0             Maruti 800 AC  2007          60000      70000  Petrol   \n",
       "1  Maruti Wagon R LXI Minor  2007         135000      50000  Petrol   \n",
       "2      Hyundai Verna 1.6 SX  2012         600000     100000  Diesel   \n",
       "3    Datsun RediGO T Option  2017         250000      46000  Petrol   \n",
       "4     Honda Amaze VX i-DTEC  2014         450000     141000  Diesel   \n",
       "\n",
       "  seller_type transmission         owner  \n",
       "0  Individual       Manual   First Owner  \n",
       "1  Individual       Manual   First Owner  \n",
       "2  Individual       Manual   First Owner  \n",
       "3  Individual       Manual   First Owner  \n",
       "4  Individual       Manual  Second Owner  "
      ]
     },
     "execution_count": 315,
     "metadata": {},
     "output_type": "execute_result"
    }
   ],
   "source": [
    "df_car.head()"
   ]
  },
  {
   "cell_type": "code",
   "execution_count": 316,
   "metadata": {},
   "outputs": [],
   "source": [
    "#df_car[df['selling_price']==8900000]"
   ]
  },
  {
   "cell_type": "code",
   "execution_count": 317,
   "metadata": {},
   "outputs": [
    {
     "data": {
      "text/plain": [
       "Maruti Swift Dzire VDI           69\n",
       "Maruti Alto 800 LXI              59\n",
       "Maruti Alto LXi                  47\n",
       "Hyundai EON Era Plus             35\n",
       "Maruti Alto LX                   35\n",
       "                                 ..\n",
       "Datsun RediGO SV 1.0              1\n",
       "Honda Amaze VX AT i-Vtech         1\n",
       "Ford Endeavour XLT TDCi 4X2       1\n",
       "Mahindra Jeep MM 775 XDB          1\n",
       "Mahindra XUV500 W6 1.99 mHawk     1\n",
       "Name: name, Length: 1491, dtype: int64"
      ]
     },
     "execution_count": 317,
     "metadata": {},
     "output_type": "execute_result"
    }
   ],
   "source": [
    "df_car['name'].value_counts()"
   ]
  },
  {
   "cell_type": "code",
   "execution_count": 318,
   "metadata": {},
   "outputs": [],
   "source": [
    "df = df_car.copy()"
   ]
  },
  {
   "cell_type": "code",
   "execution_count": 319,
   "metadata": {},
   "outputs": [],
   "source": [
    "df['Age'] =2021 - df['year']"
   ]
  },
  {
   "cell_type": "code",
   "execution_count": 320,
   "metadata": {},
   "outputs": [],
   "source": [
    "df.drop('year', inplace=True, axis =1)"
   ]
  },
  {
   "cell_type": "code",
   "execution_count": 321,
   "metadata": {},
   "outputs": [
    {
     "data": {
      "text/html": [
       "<div>\n",
       "<style scoped>\n",
       "    .dataframe tbody tr th:only-of-type {\n",
       "        vertical-align: middle;\n",
       "    }\n",
       "\n",
       "    .dataframe tbody tr th {\n",
       "        vertical-align: top;\n",
       "    }\n",
       "\n",
       "    .dataframe thead th {\n",
       "        text-align: right;\n",
       "    }\n",
       "</style>\n",
       "<table border=\"1\" class=\"dataframe\">\n",
       "  <thead>\n",
       "    <tr style=\"text-align: right;\">\n",
       "      <th></th>\n",
       "      <th>name</th>\n",
       "      <th>selling_price</th>\n",
       "      <th>km_driven</th>\n",
       "      <th>fuel</th>\n",
       "      <th>seller_type</th>\n",
       "      <th>transmission</th>\n",
       "      <th>owner</th>\n",
       "      <th>Age</th>\n",
       "    </tr>\n",
       "  </thead>\n",
       "  <tbody>\n",
       "    <tr>\n",
       "      <th>1243</th>\n",
       "      <td>Maruti Swift VXI BSIII</td>\n",
       "      <td>250000</td>\n",
       "      <td>806599</td>\n",
       "      <td>Petrol</td>\n",
       "      <td>Dealer</td>\n",
       "      <td>Manual</td>\n",
       "      <td>First Owner</td>\n",
       "      <td>12</td>\n",
       "    </tr>\n",
       "  </tbody>\n",
       "</table>\n",
       "</div>"
      ],
      "text/plain": [
       "                        name  selling_price  km_driven    fuel seller_type  \\\n",
       "1243  Maruti Swift VXI BSIII         250000     806599  Petrol      Dealer   \n",
       "\n",
       "     transmission        owner  Age  \n",
       "1243       Manual  First Owner   12  "
      ]
     },
     "execution_count": 321,
     "metadata": {},
     "output_type": "execute_result"
    }
   ],
   "source": [
    "df[df['km_driven']==806599]"
   ]
  },
  {
   "cell_type": "code",
   "execution_count": 322,
   "metadata": {},
   "outputs": [
    {
     "data": {
      "image/png": "[encoded data removed]",
      "text/plain": [
       "<Figure size 1080x576 with 4 Axes>"
      ]
     },
     "metadata": {
      "needs_background": "light"
     },
     "output_type": "display_data"
    }
   ],
   "source": [
    "df.hist(bins=50, figsize=(15,8))\n",
    "plt.show()"
   ]
  },
  {
   "cell_type": "code",
   "execution_count": 323,
   "metadata": {},
   "outputs": [],
   "source": [
    "df['log selling_price'] =np.log(df['selling_price'])"
   ]
  },
  {
   "cell_type": "code",
   "execution_count": 324,
   "metadata": {},
   "outputs": [
    {
     "name": "stderr",
     "output_type": "stream",
     "text": [
      "C:\\IDE\\Anaconda\\lib\\site-packages\\seaborn\\distributions.py:2551: FutureWarning: `distplot` is a deprecated function and will be removed in a future version. Please adapt your code to use either `displot` (a figure-level function with similar flexibility) or `histplot` (an axes-level function for histograms).\n",
      "  warnings.warn(msg, FutureWarning)\n"
     ]
    },
    {
     "data": {
      "text/plain": [
       "<AxesSubplot:xlabel='log selling_price', ylabel='Density'>"
      ]
     },
     "execution_count": 324,
     "metadata": {},
     "output_type": "execute_result"
    },
    {
     "data": {
      "image/png": "[encoded data removed]",
      "text/plain": [
       "<Figure size 432x288 with 1 Axes>"
      ]
     },
     "metadata": {
      "needs_background": "light"
     },
     "output_type": "display_data"
    }
   ],
   "source": [
    "sns.distplot(df['log selling_price'], kde=True)"
   ]
  },
  {
   "cell_type": "code",
   "execution_count": 325,
   "metadata": {},
   "outputs": [
    {
     "name": "stdout",
     "output_type": "stream",
     "text": [
      "<class 'pandas.core.frame.DataFrame'>\n",
      "RangeIndex: 4340 entries, 0 to 4339\n",
      "Data columns (total 9 columns):\n",
      " #   Column             Non-Null Count  Dtype  \n",
      "---  ------             --------------  -----  \n",
      " 0   name               4340 non-null   object \n",
      " 1   selling_price      4340 non-null   int64  \n",
      " 2   km_driven          4340 non-null   int64  \n",
      " 3   fuel               4340 non-null   object \n",
      " 4   seller_type        4340 non-null   object \n",
      " 5   transmission       4340 non-null   object \n",
      " 6   owner              4340 non-null   object \n",
      " 7   Age                4340 non-null   int64  \n",
      " 8   log selling_price  4340 non-null   float64\n",
      "dtypes: float64(1), int64(3), object(5)\n",
      "memory usage: 305.3+ KB\n"
     ]
    }
   ],
   "source": [
    "df.info()"
   ]
  },
  {
   "cell_type": "code",
   "execution_count": 326,
   "metadata": {},
   "outputs": [
    {
     "data": {
      "text/html": [
       "<div>\n",
       "<style scoped>\n",
       "    .dataframe tbody tr th:only-of-type {\n",
       "        vertical-align: middle;\n",
       "    }\n",
       "\n",
       "    .dataframe tbody tr th {\n",
       "        vertical-align: top;\n",
       "    }\n",
       "\n",
       "    .dataframe thead th {\n",
       "        text-align: right;\n",
       "    }\n",
       "</style>\n",
       "<table border=\"1\" class=\"dataframe\">\n",
       "  <thead>\n",
       "    <tr style=\"text-align: right;\">\n",
       "      <th></th>\n",
       "      <th>selling_price</th>\n",
       "      <th>km_driven</th>\n",
       "      <th>Age</th>\n",
       "    </tr>\n",
       "  </thead>\n",
       "  <tbody>\n",
       "    <tr>\n",
       "      <th>count</th>\n",
       "      <td>4.340000e+03</td>\n",
       "      <td>4340.000000</td>\n",
       "      <td>4340.000000</td>\n",
       "    </tr>\n",
       "    <tr>\n",
       "      <th>mean</th>\n",
       "      <td>5.041273e+05</td>\n",
       "      <td>66215.777419</td>\n",
       "      <td>7.909217</td>\n",
       "    </tr>\n",
       "    <tr>\n",
       "      <th>std</th>\n",
       "      <td>5.785487e+05</td>\n",
       "      <td>46644.102194</td>\n",
       "      <td>4.215344</td>\n",
       "    </tr>\n",
       "    <tr>\n",
       "      <th>min</th>\n",
       "      <td>2.000000e+04</td>\n",
       "      <td>1.000000</td>\n",
       "      <td>1.000000</td>\n",
       "    </tr>\n",
       "    <tr>\n",
       "      <th>25%</th>\n",
       "      <td>2.087498e+05</td>\n",
       "      <td>35000.000000</td>\n",
       "      <td>5.000000</td>\n",
       "    </tr>\n",
       "    <tr>\n",
       "      <th>50%</th>\n",
       "      <td>3.500000e+05</td>\n",
       "      <td>60000.000000</td>\n",
       "      <td>7.000000</td>\n",
       "    </tr>\n",
       "    <tr>\n",
       "      <th>75%</th>\n",
       "      <td>6.000000e+05</td>\n",
       "      <td>90000.000000</td>\n",
       "      <td>10.000000</td>\n",
       "    </tr>\n",
       "    <tr>\n",
       "      <th>max</th>\n",
       "      <td>8.900000e+06</td>\n",
       "      <td>806599.000000</td>\n",
       "      <td>29.000000</td>\n",
       "    </tr>\n",
       "  </tbody>\n",
       "</table>\n",
       "</div>"
      ],
      "text/plain": [
       "       selling_price      km_driven          Age\n",
       "count   4.340000e+03    4340.000000  4340.000000\n",
       "mean    5.041273e+05   66215.777419     7.909217\n",
       "std     5.785487e+05   46644.102194     4.215344\n",
       "min     2.000000e+04       1.000000     1.000000\n",
       "25%     2.087498e+05   35000.000000     5.000000\n",
       "50%     3.500000e+05   60000.000000     7.000000\n",
       "75%     6.000000e+05   90000.000000    10.000000\n",
       "max     8.900000e+06  806599.000000    29.000000"
      ]
     },
     "execution_count": 326,
     "metadata": {},
     "output_type": "execute_result"
    }
   ],
   "source": [
    "df.iloc[:,:-1].describe()"
   ]
  },
  {
   "cell_type": "code",
   "execution_count": 327,
   "metadata": {},
   "outputs": [
    {
     "data": {
      "text/plain": [
       "Diesel      2153\n",
       "Petrol      2123\n",
       "CNG           40\n",
       "LPG           23\n",
       "Electric       1\n",
       "Name: fuel, dtype: int64"
      ]
     },
     "execution_count": 327,
     "metadata": {},
     "output_type": "execute_result"
    }
   ],
   "source": [
    "df['fuel'].value_counts()"
   ]
  },
  {
   "cell_type": "code",
   "execution_count": 328,
   "metadata": {},
   "outputs": [
    {
     "data": {
      "text/plain": [
       "Individual          3244\n",
       "Dealer               994\n",
       "Trustmark Dealer     102\n",
       "Name: seller_type, dtype: int64"
      ]
     },
     "execution_count": 328,
     "metadata": {},
     "output_type": "execute_result"
    }
   ],
   "source": [
    "df['seller_type'].value_counts()"
   ]
  },
  {
   "cell_type": "code",
   "execution_count": 329,
   "metadata": {},
   "outputs": [
    {
     "data": {
      "text/plain": [
       "Manual       3892\n",
       "Automatic     448\n",
       "Name: transmission, dtype: int64"
      ]
     },
     "execution_count": 329,
     "metadata": {},
     "output_type": "execute_result"
    }
   ],
   "source": [
    "df['transmission'].value_counts()"
   ]
  },
  {
   "cell_type": "code",
   "execution_count": 330,
   "metadata": {},
   "outputs": [
    {
     "data": {
      "text/plain": [
       "First Owner             2832\n",
       "Second Owner            1106\n",
       "Third Owner              304\n",
       "Fourth & Above Owner      81\n",
       "Test Drive Car            17\n",
       "Name: owner, dtype: int64"
      ]
     },
     "execution_count": 330,
     "metadata": {},
     "output_type": "execute_result"
    }
   ],
   "source": [
    "df['owner'].value_counts()"
   ]
  },
  {
   "cell_type": "code",
   "execution_count": 331,
   "metadata": {},
   "outputs": [],
   "source": [
    "#df=df[df['fuel']!= 'Electric']"
   ]
  },
  {
   "cell_type": "code",
   "execution_count": 332,
   "metadata": {},
   "outputs": [
    {
     "data": {
      "text/html": [
       "<div>\n",
       "<style scoped>\n",
       "    .dataframe tbody tr th:only-of-type {\n",
       "        vertical-align: middle;\n",
       "    }\n",
       "\n",
       "    .dataframe tbody tr th {\n",
       "        vertical-align: top;\n",
       "    }\n",
       "\n",
       "    .dataframe thead th {\n",
       "        text-align: right;\n",
       "    }\n",
       "</style>\n",
       "<table border=\"1\" class=\"dataframe\">\n",
       "  <thead>\n",
       "    <tr style=\"text-align: right;\">\n",
       "      <th></th>\n",
       "      <th>name</th>\n",
       "      <th>selling_price</th>\n",
       "      <th>km_driven</th>\n",
       "      <th>fuel</th>\n",
       "      <th>seller_type</th>\n",
       "      <th>transmission</th>\n",
       "      <th>owner</th>\n",
       "      <th>Age</th>\n",
       "      <th>log selling_price</th>\n",
       "    </tr>\n",
       "  </thead>\n",
       "  <tbody>\n",
       "    <tr>\n",
       "      <th>0</th>\n",
       "      <td>Maruti 800 AC</td>\n",
       "      <td>60000</td>\n",
       "      <td>70000</td>\n",
       "      <td>Petrol</td>\n",
       "      <td>Individual</td>\n",
       "      <td>Manual</td>\n",
       "      <td>First Owner</td>\n",
       "      <td>14</td>\n",
       "      <td>11.002100</td>\n",
       "    </tr>\n",
       "    <tr>\n",
       "      <th>1</th>\n",
       "      <td>Maruti Wagon R LXI Minor</td>\n",
       "      <td>135000</td>\n",
       "      <td>50000</td>\n",
       "      <td>Petrol</td>\n",
       "      <td>Individual</td>\n",
       "      <td>Manual</td>\n",
       "      <td>First Owner</td>\n",
       "      <td>14</td>\n",
       "      <td>11.813030</td>\n",
       "    </tr>\n",
       "    <tr>\n",
       "      <th>2</th>\n",
       "      <td>Hyundai Verna 1.6 SX</td>\n",
       "      <td>600000</td>\n",
       "      <td>100000</td>\n",
       "      <td>Diesel</td>\n",
       "      <td>Individual</td>\n",
       "      <td>Manual</td>\n",
       "      <td>First Owner</td>\n",
       "      <td>9</td>\n",
       "      <td>13.304685</td>\n",
       "    </tr>\n",
       "    <tr>\n",
       "      <th>3</th>\n",
       "      <td>Datsun RediGO T Option</td>\n",
       "      <td>250000</td>\n",
       "      <td>46000</td>\n",
       "      <td>Petrol</td>\n",
       "      <td>Individual</td>\n",
       "      <td>Manual</td>\n",
       "      <td>First Owner</td>\n",
       "      <td>4</td>\n",
       "      <td>12.429216</td>\n",
       "    </tr>\n",
       "    <tr>\n",
       "      <th>4</th>\n",
       "      <td>Honda Amaze VX i-DTEC</td>\n",
       "      <td>450000</td>\n",
       "      <td>141000</td>\n",
       "      <td>Diesel</td>\n",
       "      <td>Individual</td>\n",
       "      <td>Manual</td>\n",
       "      <td>Second Owner</td>\n",
       "      <td>7</td>\n",
       "      <td>13.017003</td>\n",
       "    </tr>\n",
       "  </tbody>\n",
       "</table>\n",
       "</div>"
      ],
      "text/plain": [
       "                       name  selling_price  km_driven    fuel seller_type  \\\n",
       "0             Maruti 800 AC          60000      70000  Petrol  Individual   \n",
       "1  Maruti Wagon R LXI Minor         135000      50000  Petrol  Individual   \n",
       "2      Hyundai Verna 1.6 SX         600000     100000  Diesel  Individual   \n",
       "3    Datsun RediGO T Option         250000      46000  Petrol  Individual   \n",
       "4     Honda Amaze VX i-DTEC         450000     141000  Diesel  Individual   \n",
       "\n",
       "  transmission         owner  Age  log selling_price  \n",
       "0       Manual   First Owner   14          11.002100  \n",
       "1       Manual   First Owner   14          11.813030  \n",
       "2       Manual   First Owner    9          13.304685  \n",
       "3       Manual   First Owner    4          12.429216  \n",
       "4       Manual  Second Owner    7          13.017003  "
      ]
     },
     "execution_count": 332,
     "metadata": {},
     "output_type": "execute_result"
    }
   ],
   "source": [
    "df.head()"
   ]
  },
  {
   "cell_type": "code",
   "execution_count": 333,
   "metadata": {},
   "outputs": [
    {
     "data": {
      "text/html": [
       "<div>\n",
       "<style scoped>\n",
       "    .dataframe tbody tr th:only-of-type {\n",
       "        vertical-align: middle;\n",
       "    }\n",
       "\n",
       "    .dataframe tbody tr th {\n",
       "        vertical-align: top;\n",
       "    }\n",
       "\n",
       "    .dataframe thead th {\n",
       "        text-align: right;\n",
       "    }\n",
       "</style>\n",
       "<table border=\"1\" class=\"dataframe\">\n",
       "  <thead>\n",
       "    <tr style=\"text-align: right;\">\n",
       "      <th></th>\n",
       "      <th>name</th>\n",
       "      <th>selling_price</th>\n",
       "      <th>km_driven</th>\n",
       "      <th>fuel</th>\n",
       "      <th>seller_type</th>\n",
       "      <th>transmission</th>\n",
       "      <th>owner</th>\n",
       "      <th>Age</th>\n",
       "      <th>log selling_price</th>\n",
       "      <th>Brand</th>\n",
       "    </tr>\n",
       "  </thead>\n",
       "  <tbody>\n",
       "    <tr>\n",
       "      <th>0</th>\n",
       "      <td>Maruti 800 AC</td>\n",
       "      <td>60000</td>\n",
       "      <td>70000</td>\n",
       "      <td>Petrol</td>\n",
       "      <td>Individual</td>\n",
       "      <td>Manual</td>\n",
       "      <td>First Owner</td>\n",
       "      <td>14</td>\n",
       "      <td>11.002100</td>\n",
       "      <td>Maruti</td>\n",
       "    </tr>\n",
       "    <tr>\n",
       "      <th>1</th>\n",
       "      <td>Maruti Wagon R LXI Minor</td>\n",
       "      <td>135000</td>\n",
       "      <td>50000</td>\n",
       "      <td>Petrol</td>\n",
       "      <td>Individual</td>\n",
       "      <td>Manual</td>\n",
       "      <td>First Owner</td>\n",
       "      <td>14</td>\n",
       "      <td>11.813030</td>\n",
       "      <td>Maruti</td>\n",
       "    </tr>\n",
       "    <tr>\n",
       "      <th>2</th>\n",
       "      <td>Hyundai Verna 1.6 SX</td>\n",
       "      <td>600000</td>\n",
       "      <td>100000</td>\n",
       "      <td>Diesel</td>\n",
       "      <td>Individual</td>\n",
       "      <td>Manual</td>\n",
       "      <td>First Owner</td>\n",
       "      <td>9</td>\n",
       "      <td>13.304685</td>\n",
       "      <td>Hyundai</td>\n",
       "    </tr>\n",
       "    <tr>\n",
       "      <th>3</th>\n",
       "      <td>Datsun RediGO T Option</td>\n",
       "      <td>250000</td>\n",
       "      <td>46000</td>\n",
       "      <td>Petrol</td>\n",
       "      <td>Individual</td>\n",
       "      <td>Manual</td>\n",
       "      <td>First Owner</td>\n",
       "      <td>4</td>\n",
       "      <td>12.429216</td>\n",
       "      <td>Datsun</td>\n",
       "    </tr>\n",
       "    <tr>\n",
       "      <th>4</th>\n",
       "      <td>Honda Amaze VX i-DTEC</td>\n",
       "      <td>450000</td>\n",
       "      <td>141000</td>\n",
       "      <td>Diesel</td>\n",
       "      <td>Individual</td>\n",
       "      <td>Manual</td>\n",
       "      <td>Second Owner</td>\n",
       "      <td>7</td>\n",
       "      <td>13.017003</td>\n",
       "      <td>Honda</td>\n",
       "    </tr>\n",
       "  </tbody>\n",
       "</table>\n",
       "</div>"
      ],
      "text/plain": [
       "                       name  selling_price  km_driven    fuel seller_type  \\\n",
       "0             Maruti 800 AC          60000      70000  Petrol  Individual   \n",
       "1  Maruti Wagon R LXI Minor         135000      50000  Petrol  Individual   \n",
       "2      Hyundai Verna 1.6 SX         600000     100000  Diesel  Individual   \n",
       "3    Datsun RediGO T Option         250000      46000  Petrol  Individual   \n",
       "4     Honda Amaze VX i-DTEC         450000     141000  Diesel  Individual   \n",
       "\n",
       "  transmission         owner  Age  log selling_price    Brand  \n",
       "0       Manual   First Owner   14          11.002100   Maruti  \n",
       "1       Manual   First Owner   14          11.813030   Maruti  \n",
       "2       Manual   First Owner    9          13.304685  Hyundai  \n",
       "3       Manual   First Owner    4          12.429216   Datsun  \n",
       "4       Manual  Second Owner    7          13.017003    Honda  "
      ]
     },
     "execution_count": 333,
     "metadata": {},
     "output_type": "execute_result"
    }
   ],
   "source": [
    "df['Brand'] =df.name.str.split().str.get(0) \n",
    "df_car['Brand'] =df.name.str.split().str.get(0) \n",
    "df.head()"
   ]
  },
  {
   "cell_type": "code",
   "execution_count": 334,
   "metadata": {},
   "outputs": [
    {
     "data": {
      "text/plain": [
       "Brand\n",
       "Ambassador     180000.00\n",
       "Audi          1931633.33\n",
       "BMW           2945384.62\n",
       "Chevrolet      236727.06\n",
       "Daewoo          60000.00\n",
       "Name: selling_price, dtype: float64"
      ]
     },
     "execution_count": 334,
     "metadata": {},
     "output_type": "execute_result"
    }
   ],
   "source": [
    "round(df_car.groupby('Brand')['selling_price'].mean(),2).head()"
   ]
  },
  {
   "cell_type": "code",
   "execution_count": 335,
   "metadata": {},
   "outputs": [
    {
     "data": {
      "text/html": [
       "<div>\n",
       "<style scoped>\n",
       "    .dataframe tbody tr th:only-of-type {\n",
       "        vertical-align: middle;\n",
       "    }\n",
       "\n",
       "    .dataframe tbody tr th {\n",
       "        vertical-align: top;\n",
       "    }\n",
       "\n",
       "    .dataframe thead th {\n",
       "        text-align: right;\n",
       "    }\n",
       "</style>\n",
       "<table border=\"1\" class=\"dataframe\">\n",
       "  <thead>\n",
       "    <tr style=\"text-align: right;\">\n",
       "      <th></th>\n",
       "      <th>name</th>\n",
       "      <th>selling_price</th>\n",
       "      <th>km_driven</th>\n",
       "      <th>fuel</th>\n",
       "      <th>seller_type</th>\n",
       "      <th>transmission</th>\n",
       "      <th>owner</th>\n",
       "      <th>Age</th>\n",
       "      <th>log selling_price</th>\n",
       "      <th>Brand</th>\n",
       "      <th>Group_Mean</th>\n",
       "    </tr>\n",
       "  </thead>\n",
       "  <tbody>\n",
       "    <tr>\n",
       "      <th>0</th>\n",
       "      <td>Maruti 800 AC</td>\n",
       "      <td>60000</td>\n",
       "      <td>70000</td>\n",
       "      <td>Petrol</td>\n",
       "      <td>Individual</td>\n",
       "      <td>Manual</td>\n",
       "      <td>First Owner</td>\n",
       "      <td>14</td>\n",
       "      <td>11.002100</td>\n",
       "      <td>Maruti</td>\n",
       "      <td>342416.30</td>\n",
       "    </tr>\n",
       "    <tr>\n",
       "      <th>1</th>\n",
       "      <td>Maruti Wagon R LXI Minor</td>\n",
       "      <td>135000</td>\n",
       "      <td>50000</td>\n",
       "      <td>Petrol</td>\n",
       "      <td>Individual</td>\n",
       "      <td>Manual</td>\n",
       "      <td>First Owner</td>\n",
       "      <td>14</td>\n",
       "      <td>11.813030</td>\n",
       "      <td>Maruti</td>\n",
       "      <td>342416.30</td>\n",
       "    </tr>\n",
       "    <tr>\n",
       "      <th>2</th>\n",
       "      <td>Hyundai Verna 1.6 SX</td>\n",
       "      <td>600000</td>\n",
       "      <td>100000</td>\n",
       "      <td>Diesel</td>\n",
       "      <td>Individual</td>\n",
       "      <td>Manual</td>\n",
       "      <td>First Owner</td>\n",
       "      <td>9</td>\n",
       "      <td>13.304685</td>\n",
       "      <td>Hyundai</td>\n",
       "      <td>419940.26</td>\n",
       "    </tr>\n",
       "    <tr>\n",
       "      <th>3</th>\n",
       "      <td>Datsun RediGO T Option</td>\n",
       "      <td>250000</td>\n",
       "      <td>46000</td>\n",
       "      <td>Petrol</td>\n",
       "      <td>Individual</td>\n",
       "      <td>Manual</td>\n",
       "      <td>First Owner</td>\n",
       "      <td>4</td>\n",
       "      <td>12.429216</td>\n",
       "      <td>Datsun</td>\n",
       "      <td>297026.95</td>\n",
       "    </tr>\n",
       "    <tr>\n",
       "      <th>4</th>\n",
       "      <td>Honda Amaze VX i-DTEC</td>\n",
       "      <td>450000</td>\n",
       "      <td>141000</td>\n",
       "      <td>Diesel</td>\n",
       "      <td>Individual</td>\n",
       "      <td>Manual</td>\n",
       "      <td>Second Owner</td>\n",
       "      <td>7</td>\n",
       "      <td>13.017003</td>\n",
       "      <td>Honda</td>\n",
       "      <td>538146.78</td>\n",
       "    </tr>\n",
       "  </tbody>\n",
       "</table>\n",
       "</div>"
      ],
      "text/plain": [
       "                       name  selling_price  km_driven    fuel seller_type  \\\n",
       "0             Maruti 800 AC          60000      70000  Petrol  Individual   \n",
       "1  Maruti Wagon R LXI Minor         135000      50000  Petrol  Individual   \n",
       "2      Hyundai Verna 1.6 SX         600000     100000  Diesel  Individual   \n",
       "3    Datsun RediGO T Option         250000      46000  Petrol  Individual   \n",
       "4     Honda Amaze VX i-DTEC         450000     141000  Diesel  Individual   \n",
       "\n",
       "  transmission         owner  Age  log selling_price    Brand  Group_Mean  \n",
       "0       Manual   First Owner   14          11.002100   Maruti   342416.30  \n",
       "1       Manual   First Owner   14          11.813030   Maruti   342416.30  \n",
       "2       Manual   First Owner    9          13.304685  Hyundai   419940.26  \n",
       "3       Manual   First Owner    4          12.429216   Datsun   297026.95  \n",
       "4       Manual  Second Owner    7          13.017003    Honda   538146.78  "
      ]
     },
     "execution_count": 335,
     "metadata": {},
     "output_type": "execute_result"
    }
   ],
   "source": [
    "df['Brand'].value_counts()\n",
    "Brands =round(df_car.groupby(['Brand'])['selling_price'].mean(),2)\n",
    "Brands\n",
    "df['Group_Mean']=df['Brand'].map(Brands)\n",
    "df.head()"
   ]
  },
  {
   "cell_type": "code",
   "execution_count": 336,
   "metadata": {},
   "outputs": [],
   "source": [
    "df['Brand_Group'] = np.where(\n",
    "    df['Group_Mean'] >= 1000000, \"Premium\", np.where(\n",
    "     df['Group_Mean'] <400000, \"Low\", \"Medium\"))"
   ]
  },
  {
   "cell_type": "code",
   "execution_count": 337,
   "metadata": {},
   "outputs": [],
   "source": [
    "cols = ['Brand','Brand_Group','km_driven','Age', 'fuel','seller_type','transmission', 'owner', 'selling_price',\"log selling_price\"]"
   ]
  },
  {
   "cell_type": "code",
   "execution_count": 338,
   "metadata": {},
   "outputs": [
    {
     "data": {
      "text/html": [
       "<div>\n",
       "<style scoped>\n",
       "    .dataframe tbody tr th:only-of-type {\n",
       "        vertical-align: middle;\n",
       "    }\n",
       "\n",
       "    .dataframe tbody tr th {\n",
       "        vertical-align: top;\n",
       "    }\n",
       "\n",
       "    .dataframe thead th {\n",
       "        text-align: right;\n",
       "    }\n",
       "</style>\n",
       "<table border=\"1\" class=\"dataframe\">\n",
       "  <thead>\n",
       "    <tr style=\"text-align: right;\">\n",
       "      <th></th>\n",
       "      <th>Brand</th>\n",
       "      <th>Brand_Group</th>\n",
       "      <th>km_driven</th>\n",
       "      <th>Age</th>\n",
       "      <th>fuel</th>\n",
       "      <th>seller_type</th>\n",
       "      <th>transmission</th>\n",
       "      <th>owner</th>\n",
       "      <th>selling_price</th>\n",
       "      <th>log selling_price</th>\n",
       "    </tr>\n",
       "  </thead>\n",
       "  <tbody>\n",
       "    <tr>\n",
       "      <th>0</th>\n",
       "      <td>Maruti</td>\n",
       "      <td>Low</td>\n",
       "      <td>70000</td>\n",
       "      <td>14</td>\n",
       "      <td>Petrol</td>\n",
       "      <td>Individual</td>\n",
       "      <td>Manual</td>\n",
       "      <td>First Owner</td>\n",
       "      <td>60000</td>\n",
       "      <td>11.002100</td>\n",
       "    </tr>\n",
       "    <tr>\n",
       "      <th>1</th>\n",
       "      <td>Maruti</td>\n",
       "      <td>Low</td>\n",
       "      <td>50000</td>\n",
       "      <td>14</td>\n",
       "      <td>Petrol</td>\n",
       "      <td>Individual</td>\n",
       "      <td>Manual</td>\n",
       "      <td>First Owner</td>\n",
       "      <td>135000</td>\n",
       "      <td>11.813030</td>\n",
       "    </tr>\n",
       "    <tr>\n",
       "      <th>2</th>\n",
       "      <td>Hyundai</td>\n",
       "      <td>Medium</td>\n",
       "      <td>100000</td>\n",
       "      <td>9</td>\n",
       "      <td>Diesel</td>\n",
       "      <td>Individual</td>\n",
       "      <td>Manual</td>\n",
       "      <td>First Owner</td>\n",
       "      <td>600000</td>\n",
       "      <td>13.304685</td>\n",
       "    </tr>\n",
       "    <tr>\n",
       "      <th>3</th>\n",
       "      <td>Datsun</td>\n",
       "      <td>Low</td>\n",
       "      <td>46000</td>\n",
       "      <td>4</td>\n",
       "      <td>Petrol</td>\n",
       "      <td>Individual</td>\n",
       "      <td>Manual</td>\n",
       "      <td>First Owner</td>\n",
       "      <td>250000</td>\n",
       "      <td>12.429216</td>\n",
       "    </tr>\n",
       "    <tr>\n",
       "      <th>4</th>\n",
       "      <td>Honda</td>\n",
       "      <td>Medium</td>\n",
       "      <td>141000</td>\n",
       "      <td>7</td>\n",
       "      <td>Diesel</td>\n",
       "      <td>Individual</td>\n",
       "      <td>Manual</td>\n",
       "      <td>Second Owner</td>\n",
       "      <td>450000</td>\n",
       "      <td>13.017003</td>\n",
       "    </tr>\n",
       "  </tbody>\n",
       "</table>\n",
       "</div>"
      ],
      "text/plain": [
       "     Brand Brand_Group  km_driven  Age    fuel seller_type transmission  \\\n",
       "0   Maruti         Low      70000   14  Petrol  Individual       Manual   \n",
       "1   Maruti         Low      50000   14  Petrol  Individual       Manual   \n",
       "2  Hyundai      Medium     100000    9  Diesel  Individual       Manual   \n",
       "3   Datsun         Low      46000    4  Petrol  Individual       Manual   \n",
       "4    Honda      Medium     141000    7  Diesel  Individual       Manual   \n",
       "\n",
       "          owner  selling_price  log selling_price  \n",
       "0   First Owner          60000          11.002100  \n",
       "1   First Owner         135000          11.813030  \n",
       "2   First Owner         600000          13.304685  \n",
       "3   First Owner         250000          12.429216  \n",
       "4  Second Owner         450000          13.017003  "
      ]
     },
     "execution_count": 338,
     "metadata": {},
     "output_type": "execute_result"
    }
   ],
   "source": [
    "df= df[cols]\n",
    "df.head()"
   ]
  },
  {
   "cell_type": "code",
   "execution_count": 339,
   "metadata": {},
   "outputs": [
    {
     "data": {
      "text/plain": [
       "Maruti        1280\n",
       "Tata           361\n",
       "Chevrolet      188\n",
       "Fiat            37\n",
       "Datsun          37\n",
       "Ambassador       4\n",
       "OpelCorsa        2\n",
       "Force            1\n",
       "Daewoo           1\n",
       "Name: Brand, dtype: int64"
      ]
     },
     "execution_count": 339,
     "metadata": {},
     "output_type": "execute_result"
    }
   ],
   "source": [
    "df['Brand'][df['Brand_Group']=='Low'].value_counts()"
   ]
  },
  {
   "cell_type": "code",
   "execution_count": 340,
   "metadata": {},
   "outputs": [
    {
     "data": {
      "text/plain": [
       "Hyundai       821\n",
       "Mahindra      365\n",
       "Honda         252\n",
       "Ford          238\n",
       "Toyota        206\n",
       "Renault       146\n",
       "Volkswagen    107\n",
       "Skoda          68\n",
       "Nissan         64\n",
       "Mitsubishi      6\n",
       "Name: Brand, dtype: int64"
      ]
     },
     "execution_count": 340,
     "metadata": {},
     "output_type": "execute_result"
    }
   ],
   "source": [
    "df['Brand'][df['Brand_Group']=='Medium'].value_counts()"
   ]
  },
  {
   "cell_type": "code",
   "execution_count": 341,
   "metadata": {},
   "outputs": [
    {
     "data": {
      "text/plain": [
       "Audi             60\n",
       "BMW              39\n",
       "Mercedes-Benz    35\n",
       "Jaguar            6\n",
       "Land              5\n",
       "Volvo             4\n",
       "Jeep              3\n",
       "MG                2\n",
       "Isuzu             1\n",
       "Kia               1\n",
       "Name: Brand, dtype: int64"
      ]
     },
     "execution_count": 341,
     "metadata": {},
     "output_type": "execute_result"
    }
   ],
   "source": [
    "df['Brand'][df['Brand_Group']=='Premium'].value_counts()"
   ]
  },
  {
   "cell_type": "code",
   "execution_count": 342,
   "metadata": {},
   "outputs": [],
   "source": [
    "df.drop('Brand', axis=1, inplace=True)"
   ]
  },
  {
   "cell_type": "code",
   "execution_count": 343,
   "metadata": {},
   "outputs": [
    {
     "data": {
      "text/plain": [
       "Medium     2273\n",
       "Low        1911\n",
       "Premium     156\n",
       "Name: Brand_Group, dtype: int64"
      ]
     },
     "execution_count": 343,
     "metadata": {},
     "output_type": "execute_result"
    }
   ],
   "source": [
    "df['Brand_Group'].value_counts()"
   ]
  },
  {
   "cell_type": "code",
   "execution_count": 344,
   "metadata": {},
   "outputs": [
    {
     "data": {
      "image/png": "[encoded data removed]",
      "text/plain": [
       "<Figure size 432x288 with 2 Axes>"
      ]
     },
     "metadata": {
      "needs_background": "light"
     },
     "output_type": "display_data"
    }
   ],
   "source": [
    "\n",
    "sns.heatmap(df.iloc[:,:-2].corr(), annot= True);"
   ]
  },
  {
   "cell_type": "code",
   "execution_count": 345,
   "metadata": {
    "scrolled": true
   },
   "outputs": [
    {
     "data": {
      "text/html": [
       "<div>\n",
       "<style scoped>\n",
       "    .dataframe tbody tr th:only-of-type {\n",
       "        vertical-align: middle;\n",
       "    }\n",
       "\n",
       "    .dataframe tbody tr th {\n",
       "        vertical-align: top;\n",
       "    }\n",
       "\n",
       "    .dataframe thead th {\n",
       "        text-align: right;\n",
       "    }\n",
       "</style>\n",
       "<table border=\"1\" class=\"dataframe\">\n",
       "  <thead>\n",
       "    <tr style=\"text-align: right;\">\n",
       "      <th></th>\n",
       "      <th>Brand_Group</th>\n",
       "      <th>km_driven</th>\n",
       "      <th>Age</th>\n",
       "      <th>fuel</th>\n",
       "      <th>seller_type</th>\n",
       "      <th>transmission</th>\n",
       "      <th>owner</th>\n",
       "      <th>selling_price</th>\n",
       "      <th>log selling_price</th>\n",
       "    </tr>\n",
       "  </thead>\n",
       "  <tbody>\n",
       "    <tr>\n",
       "      <th>0</th>\n",
       "      <td>Low</td>\n",
       "      <td>70000</td>\n",
       "      <td>14</td>\n",
       "      <td>Petrol</td>\n",
       "      <td>Individual</td>\n",
       "      <td>Manual</td>\n",
       "      <td>First Owner</td>\n",
       "      <td>60000</td>\n",
       "      <td>11.002100</td>\n",
       "    </tr>\n",
       "    <tr>\n",
       "      <th>1</th>\n",
       "      <td>Low</td>\n",
       "      <td>50000</td>\n",
       "      <td>14</td>\n",
       "      <td>Petrol</td>\n",
       "      <td>Individual</td>\n",
       "      <td>Manual</td>\n",
       "      <td>First Owner</td>\n",
       "      <td>135000</td>\n",
       "      <td>11.813030</td>\n",
       "    </tr>\n",
       "    <tr>\n",
       "      <th>2</th>\n",
       "      <td>Medium</td>\n",
       "      <td>100000</td>\n",
       "      <td>9</td>\n",
       "      <td>Diesel</td>\n",
       "      <td>Individual</td>\n",
       "      <td>Manual</td>\n",
       "      <td>First Owner</td>\n",
       "      <td>600000</td>\n",
       "      <td>13.304685</td>\n",
       "    </tr>\n",
       "    <tr>\n",
       "      <th>3</th>\n",
       "      <td>Low</td>\n",
       "      <td>46000</td>\n",
       "      <td>4</td>\n",
       "      <td>Petrol</td>\n",
       "      <td>Individual</td>\n",
       "      <td>Manual</td>\n",
       "      <td>First Owner</td>\n",
       "      <td>250000</td>\n",
       "      <td>12.429216</td>\n",
       "    </tr>\n",
       "    <tr>\n",
       "      <th>4</th>\n",
       "      <td>Medium</td>\n",
       "      <td>141000</td>\n",
       "      <td>7</td>\n",
       "      <td>Diesel</td>\n",
       "      <td>Individual</td>\n",
       "      <td>Manual</td>\n",
       "      <td>Second Owner</td>\n",
       "      <td>450000</td>\n",
       "      <td>13.017003</td>\n",
       "    </tr>\n",
       "  </tbody>\n",
       "</table>\n",
       "</div>"
      ],
      "text/plain": [
       "  Brand_Group  km_driven  Age    fuel seller_type transmission         owner  \\\n",
       "0         Low      70000   14  Petrol  Individual       Manual   First Owner   \n",
       "1         Low      50000   14  Petrol  Individual       Manual   First Owner   \n",
       "2      Medium     100000    9  Diesel  Individual       Manual   First Owner   \n",
       "3         Low      46000    4  Petrol  Individual       Manual   First Owner   \n",
       "4      Medium     141000    7  Diesel  Individual       Manual  Second Owner   \n",
       "\n",
       "   selling_price  log selling_price  \n",
       "0          60000          11.002100  \n",
       "1         135000          11.813030  \n",
       "2         600000          13.304685  \n",
       "3         250000          12.429216  \n",
       "4         450000          13.017003  "
      ]
     },
     "execution_count": 345,
     "metadata": {},
     "output_type": "execute_result"
    }
   ],
   "source": [
    "  df.head()"
   ]
  },
  {
   "cell_type": "code",
   "execution_count": 346,
   "metadata": {},
   "outputs": [
    {
     "data": {
      "text/plain": [
       "<matplotlib.legend.Legend at 0x1eb5ebf5248>"
      ]
     },
     "execution_count": 346,
     "metadata": {},
     "output_type": "execute_result"
    },
    {
     "data": {
      "image/png": "[encoded data removed]",
      "text/plain": [
       "<Figure size 1440x720 with 4 Axes>"
      ]
     },
     "metadata": {
      "needs_background": "light"
     },
     "output_type": "display_data"
    }
   ],
   "source": [
    "fig, axes = plt.subplots(2, 2, figsize=(20, 10))\n",
    "sns.barplot(ax=axes[0, 0],x = 'transmission',y ='selling_price', data =df, hue=\"Brand_Group\", ci=None)\n",
    "sns.barplot(ax=axes[0, 1],x = 'fuel', y ='selling_price', data =df, hue=\"Brand_Group\",ci=None)\n",
    "sns.barplot(ax=axes[1, 0],x = 'seller_type',y ='selling_price', data =df, hue=\"Brand_Group\",ci=None)\n",
    "sns.barplot(ax=axes[1, 1],x = 'owner', y ='selling_price', data =df, hue=\"Brand_Group\", ci=None)\n",
    "plt.legend(loc='upper right')"
   ]
  },
  {
   "cell_type": "code",
   "execution_count": 347,
   "metadata": {},
   "outputs": [
    {
     "data": {
      "text/plain": [
       "'\\n\\nfig, axes = plt.subplots(2, 2, figsize=(20, 10))\\nsns.barplot(ax=axes[0, 0],x = \\'Brand_Group\\',y =\\'selling_price\\', data =df,ci=None)\\nsns.barplot(ax=axes[0, 1],x = \\'kmLevel\\', y =\\'selling_price\\', data =df5, hue=\"Brand_Group\", ci=None,order=[\\'Level1\\', \\'Level2\\', \\'Level3\\', \\'Level4\\'])\\n#plt.legend(loc=\\'upper right\\')\\nplt.show()\\n'"
      ]
     },
     "execution_count": 347,
     "metadata": {},
     "output_type": "execute_result"
    }
   ],
   "source": [
    "'''\n",
    "\n",
    "fig, axes = plt.subplots(2, 2, figsize=(20, 10))\n",
    "sns.barplot(ax=axes[0, 0],x = 'Brand_Group',y ='selling_price', data =df,ci=None)\n",
    "sns.barplot(ax=axes[0, 1],x = 'kmLevel', y ='selling_price', data =df5, hue=\"Brand_Group\", ci=None,order=['Level1', 'Level2', 'Level3', 'Level4'])\n",
    "#plt.legend(loc='upper right')\n",
    "plt.show()\n",
    "'''"
   ]
  },
  {
   "cell_type": "code",
   "execution_count": 348,
   "metadata": {},
   "outputs": [
    {
     "data": {
      "text/plain": [
       "<AxesSubplot:xlabel='owner', ylabel='count'>"
      ]
     },
     "execution_count": 348,
     "metadata": {},
     "output_type": "execute_result"
    },
    {
     "data": {
      "image/png": "[encoded data removed]",
      "text/plain": [
       "<Figure size 1296x720 with 4 Axes>"
      ]
     },
     "metadata": {
      "needs_background": "light"
     },
     "output_type": "display_data"
    }
   ],
   "source": [
    "fig, axes = plt.subplots(2, 2, figsize=(18, 10))\n",
    "sns.countplot(ax=axes[0, 0],x = 'transmission', data =df)\n",
    "sns.countplot(ax=axes[0, 1],x = 'fuel', data =df)\n",
    "sns.countplot(ax=axes[1, 0],x = 'seller_type', data =df)\n",
    "sns.countplot(ax=axes[1, 1],x = 'owner', data =df)\n"
   ]
  },
  {
   "cell_type": "code",
   "execution_count": 349,
   "metadata": {},
   "outputs": [
    {
     "data": {
      "text/plain": [
       "\"\\n\\nfig, axes = plt.subplots(2, 2, figsize=(20, 10))\\nsns.countplot(ax=axes[0, 0],x = 'Brand_Group',  data =df)\\nsns.countplot(ax=axes[0, 1],x = 'kmLevel', data =df5,order=['Level1', 'Level2', 'Level3', 'Level4'])\\n\""
      ]
     },
     "execution_count": 349,
     "metadata": {},
     "output_type": "execute_result"
    }
   ],
   "source": [
    "'''\n",
    "\n",
    "fig, axes = plt.subplots(2, 2, figsize=(20, 10))\n",
    "sns.countplot(ax=axes[0, 0],x = 'Brand_Group',  data =df)\n",
    "sns.countplot(ax=axes[0, 1],x = 'kmLevel', data =df5,order=['Level1', 'Level2', 'Level3', 'Level4'])\n",
    "'''"
   ]
  },
  {
   "cell_type": "code",
   "execution_count": 350,
   "metadata": {},
   "outputs": [
    {
     "data": {
      "text/html": [
       "<div>\n",
       "<style scoped>\n",
       "    .dataframe tbody tr th:only-of-type {\n",
       "        vertical-align: middle;\n",
       "    }\n",
       "\n",
       "    .dataframe tbody tr th {\n",
       "        vertical-align: top;\n",
       "    }\n",
       "\n",
       "    .dataframe thead th {\n",
       "        text-align: right;\n",
       "    }\n",
       "</style>\n",
       "<table border=\"1\" class=\"dataframe\">\n",
       "  <thead>\n",
       "    <tr style=\"text-align: right;\">\n",
       "      <th></th>\n",
       "      <th>km_driven</th>\n",
       "      <th>Age</th>\n",
       "      <th>selling_price</th>\n",
       "    </tr>\n",
       "  </thead>\n",
       "  <tbody>\n",
       "    <tr>\n",
       "      <th>count</th>\n",
       "      <td>2273.000000</td>\n",
       "      <td>2273.000000</td>\n",
       "      <td>2.273000e+03</td>\n",
       "    </tr>\n",
       "    <tr>\n",
       "      <th>mean</th>\n",
       "      <td>67068.368676</td>\n",
       "      <td>7.475583</td>\n",
       "      <td>5.279656e+05</td>\n",
       "    </tr>\n",
       "    <tr>\n",
       "      <th>std</th>\n",
       "      <td>47464.439884</td>\n",
       "      <td>3.923952</td>\n",
       "      <td>3.978289e+05</td>\n",
       "    </tr>\n",
       "    <tr>\n",
       "      <th>min</th>\n",
       "      <td>1.000000</td>\n",
       "      <td>1.000000</td>\n",
       "      <td>2.000000e+04</td>\n",
       "    </tr>\n",
       "    <tr>\n",
       "      <th>25%</th>\n",
       "      <td>32000.000000</td>\n",
       "      <td>4.000000</td>\n",
       "      <td>2.800000e+05</td>\n",
       "    </tr>\n",
       "    <tr>\n",
       "      <th>50%</th>\n",
       "      <td>59319.000000</td>\n",
       "      <td>7.000000</td>\n",
       "      <td>4.500000e+05</td>\n",
       "    </tr>\n",
       "    <tr>\n",
       "      <th>75%</th>\n",
       "      <td>90000.000000</td>\n",
       "      <td>10.000000</td>\n",
       "      <td>6.500000e+05</td>\n",
       "    </tr>\n",
       "    <tr>\n",
       "      <th>max</th>\n",
       "      <td>400000.000000</td>\n",
       "      <td>25.000000</td>\n",
       "      <td>3.200000e+06</td>\n",
       "    </tr>\n",
       "  </tbody>\n",
       "</table>\n",
       "</div>"
      ],
      "text/plain": [
       "           km_driven          Age  selling_price\n",
       "count    2273.000000  2273.000000   2.273000e+03\n",
       "mean    67068.368676     7.475583   5.279656e+05\n",
       "std     47464.439884     3.923952   3.978289e+05\n",
       "min         1.000000     1.000000   2.000000e+04\n",
       "25%     32000.000000     4.000000   2.800000e+05\n",
       "50%     59319.000000     7.000000   4.500000e+05\n",
       "75%     90000.000000    10.000000   6.500000e+05\n",
       "max    400000.000000    25.000000   3.200000e+06"
      ]
     },
     "execution_count": 350,
     "metadata": {},
     "output_type": "execute_result"
    }
   ],
   "source": [
    "df[['km_driven', 'Age', 'selling_price']][df[\"Brand_Group\"]==\"Medium\"].describe()"
   ]
  },
  {
   "cell_type": "code",
   "execution_count": 351,
   "metadata": {},
   "outputs": [
    {
     "data": {
      "text/html": [
       "<div>\n",
       "<style scoped>\n",
       "    .dataframe tbody tr th:only-of-type {\n",
       "        vertical-align: middle;\n",
       "    }\n",
       "\n",
       "    .dataframe tbody tr th {\n",
       "        vertical-align: top;\n",
       "    }\n",
       "\n",
       "    .dataframe thead th {\n",
       "        text-align: right;\n",
       "    }\n",
       "</style>\n",
       "<table border=\"1\" class=\"dataframe\">\n",
       "  <thead>\n",
       "    <tr style=\"text-align: right;\">\n",
       "      <th></th>\n",
       "      <th>km_driven</th>\n",
       "      <th>Age</th>\n",
       "      <th>selling_price</th>\n",
       "    </tr>\n",
       "  </thead>\n",
       "  <tbody>\n",
       "    <tr>\n",
       "      <th>count</th>\n",
       "      <td>1911.000000</td>\n",
       "      <td>1911.000000</td>\n",
       "      <td>1.911000e+03</td>\n",
       "    </tr>\n",
       "    <tr>\n",
       "      <th>mean</th>\n",
       "      <td>66219.340136</td>\n",
       "      <td>8.515437</td>\n",
       "      <td>3.182269e+05</td>\n",
       "    </tr>\n",
       "    <tr>\n",
       "      <th>std</th>\n",
       "      <td>46322.103212</td>\n",
       "      <td>4.485538</td>\n",
       "      <td>2.333446e+05</td>\n",
       "    </tr>\n",
       "    <tr>\n",
       "      <th>min</th>\n",
       "      <td>1000.000000</td>\n",
       "      <td>1.000000</td>\n",
       "      <td>3.000000e+04</td>\n",
       "    </tr>\n",
       "    <tr>\n",
       "      <th>25%</th>\n",
       "      <td>37045.500000</td>\n",
       "      <td>5.000000</td>\n",
       "      <td>1.400000e+05</td>\n",
       "    </tr>\n",
       "    <tr>\n",
       "      <th>50%</th>\n",
       "      <td>60000.000000</td>\n",
       "      <td>8.000000</td>\n",
       "      <td>2.500000e+05</td>\n",
       "    </tr>\n",
       "    <tr>\n",
       "      <th>75%</th>\n",
       "      <td>90000.000000</td>\n",
       "      <td>11.000000</td>\n",
       "      <td>4.400000e+05</td>\n",
       "    </tr>\n",
       "    <tr>\n",
       "      <th>max</th>\n",
       "      <td>806599.000000</td>\n",
       "      <td>29.000000</td>\n",
       "      <td>1.700000e+06</td>\n",
       "    </tr>\n",
       "  </tbody>\n",
       "</table>\n",
       "</div>"
      ],
      "text/plain": [
       "           km_driven          Age  selling_price\n",
       "count    1911.000000  1911.000000   1.911000e+03\n",
       "mean    66219.340136     8.515437   3.182269e+05\n",
       "std     46322.103212     4.485538   2.333446e+05\n",
       "min      1000.000000     1.000000   3.000000e+04\n",
       "25%     37045.500000     5.000000   1.400000e+05\n",
       "50%     60000.000000     8.000000   2.500000e+05\n",
       "75%     90000.000000    11.000000   4.400000e+05\n",
       "max    806599.000000    29.000000   1.700000e+06"
      ]
     },
     "execution_count": 351,
     "metadata": {},
     "output_type": "execute_result"
    }
   ],
   "source": [
    "df[['km_driven', 'Age', 'selling_price']][df[\"Brand_Group\"]==\"Low\"].describe()"
   ]
  },
  {
   "cell_type": "code",
   "execution_count": 352,
   "metadata": {},
   "outputs": [
    {
     "data": {
      "text/html": [
       "<div>\n",
       "<style scoped>\n",
       "    .dataframe tbody tr th:only-of-type {\n",
       "        vertical-align: middle;\n",
       "    }\n",
       "\n",
       "    .dataframe tbody tr th {\n",
       "        vertical-align: top;\n",
       "    }\n",
       "\n",
       "    .dataframe thead th {\n",
       "        text-align: right;\n",
       "    }\n",
       "</style>\n",
       "<table border=\"1\" class=\"dataframe\">\n",
       "  <thead>\n",
       "    <tr style=\"text-align: right;\">\n",
       "      <th></th>\n",
       "      <th>km_driven</th>\n",
       "      <th>Age</th>\n",
       "      <th>selling_price</th>\n",
       "    </tr>\n",
       "  </thead>\n",
       "  <tbody>\n",
       "    <tr>\n",
       "      <th>count</th>\n",
       "      <td>156.000000</td>\n",
       "      <td>156.000000</td>\n",
       "      <td>1.560000e+02</td>\n",
       "    </tr>\n",
       "    <tr>\n",
       "      <th>mean</th>\n",
       "      <td>53749.442308</td>\n",
       "      <td>6.801282</td>\n",
       "      <td>2.434071e+06</td>\n",
       "    </tr>\n",
       "    <tr>\n",
       "      <th>std</th>\n",
       "      <td>35692.240149</td>\n",
       "      <td>3.907676</td>\n",
       "      <td>1.481883e+06</td>\n",
       "    </tr>\n",
       "    <tr>\n",
       "      <th>min</th>\n",
       "      <td>1500.000000</td>\n",
       "      <td>1.000000</td>\n",
       "      <td>3.500000e+05</td>\n",
       "    </tr>\n",
       "    <tr>\n",
       "      <th>25%</th>\n",
       "      <td>30000.000000</td>\n",
       "      <td>3.000000</td>\n",
       "      <td>1.300000e+06</td>\n",
       "    </tr>\n",
       "    <tr>\n",
       "      <th>50%</th>\n",
       "      <td>48000.000000</td>\n",
       "      <td>7.000000</td>\n",
       "      <td>1.837500e+06</td>\n",
       "    </tr>\n",
       "    <tr>\n",
       "      <th>75%</th>\n",
       "      <td>79625.000000</td>\n",
       "      <td>8.000000</td>\n",
       "      <td>3.575000e+06</td>\n",
       "    </tr>\n",
       "    <tr>\n",
       "      <th>max</th>\n",
       "      <td>175900.000000</td>\n",
       "      <td>23.000000</td>\n",
       "      <td>8.900000e+06</td>\n",
       "    </tr>\n",
       "  </tbody>\n",
       "</table>\n",
       "</div>"
      ],
      "text/plain": [
       "           km_driven         Age  selling_price\n",
       "count     156.000000  156.000000   1.560000e+02\n",
       "mean    53749.442308    6.801282   2.434071e+06\n",
       "std     35692.240149    3.907676   1.481883e+06\n",
       "min      1500.000000    1.000000   3.500000e+05\n",
       "25%     30000.000000    3.000000   1.300000e+06\n",
       "50%     48000.000000    7.000000   1.837500e+06\n",
       "75%     79625.000000    8.000000   3.575000e+06\n",
       "max    175900.000000   23.000000   8.900000e+06"
      ]
     },
     "execution_count": 352,
     "metadata": {},
     "output_type": "execute_result"
    }
   ],
   "source": [
    "df[['km_driven', 'Age', 'selling_price']][df[\"Brand_Group\"]==\"Premium\"].describe()"
   ]
  },
  {
   "cell_type": "code",
   "execution_count": null,
   "metadata": {},
   "outputs": [],
   "source": []
  },
  {
   "cell_type": "markdown",
   "metadata": {},
   "source": [
    "# Hypothesis Testing"
   ]
  },
  {
   "cell_type": "markdown",
   "metadata": {},
   "source": [
    "## Two sample Test - T Test"
   ]
  },
  {
   "cell_type": "markdown",
   "metadata": {},
   "source": [
    "#### Kilometers Driven Vs Fuel type"
   ]
  },
  {
   "cell_type": "code",
   "execution_count": 353,
   "metadata": {},
   "outputs": [
    {
     "data": {
      "image/png": "[encoded data removed]",
      "text/plain": [
       "<Figure size 360x360 with 1 Axes>"
      ]
     },
     "metadata": {
      "needs_background": "light"
     },
     "output_type": "display_data"
    }
   ],
   "source": [
    "df1= df.copy()\n",
    "df1 = df1[(df1['fuel']=='Petrol') | (df1['fuel']=='Diesel')] \n",
    "plt.figure(figsize=(5, 5))\n",
    "ax = sns.boxplot(x='fuel', y='km_driven', data=df1,showfliers=False)\n",
    "ax.set(xlabel = 'Fuel', ylabel = 'km_driven', title = 'Fuel Vs km_driven')\n",
    "plt.show()"
   ]
  },
  {
   "cell_type": "code",
   "execution_count": 354,
   "metadata": {},
   "outputs": [
    {
     "name": "stdout",
     "output_type": "stream",
     "text": [
      "1.4043722837909276e-84\n",
      "Reject null hypothesis\n"
     ]
    }
   ],
   "source": [
    "km_Petrol = df1['km_driven'][df1['fuel']=='Petrol' ]\n",
    "km_Diesel = df1['km_driven'][df1['fuel']=='Diesel']\n",
    "tscore,pval = stats.ttest_ind(km_Petrol, km_Diesel)  \n",
    "print(pval)\n",
    "if pval<0.05:\n",
    "    print(\"Reject null hypothesis\")\n",
    "else:\n",
    "    print(\"Accept null hypothesis\")"
   ]
  },
  {
   "cell_type": "markdown",
   "metadata": {},
   "source": [
    "#### Selling price of low value brand with kms driven lesser than average Vs Selling price of Medium value brand with kms driven greater than average\n"
   ]
  },
  {
   "cell_type": "code",
   "execution_count": 355,
   "metadata": {},
   "outputs": [
    {
     "data": {
      "image/png": "[encoded data removed]",
      "text/plain": [
       "<Figure size 360x360 with 1 Axes>"
      ]
     },
     "metadata": {
      "needs_background": "light"
     },
     "output_type": "display_data"
    }
   ],
   "source": [
    "df2=df.copy()\n",
    "df2 =df2[((df['Brand_Group']=='Low') & (df2['km_driven']<=65000))|((df2['Brand_Group']=='Medium')&(df2['km_driven']<=65000))]\n",
    "plt.figure(figsize=(5, 5))\n",
    "ax = sns.boxplot(x='Brand_Group', y='selling_price', data=df2,showfliers=False)\n",
    "ax.set(xlabel = 'Brand_Group', ylabel = 'selling_price', title = 'Brand_Group Vs selling_price')\n",
    "plt.show()"
   ]
  },
  {
   "cell_type": "code",
   "execution_count": 356,
   "metadata": {},
   "outputs": [
    {
     "name": "stdout",
     "output_type": "stream",
     "text": [
      "8.928761476042556e-43\n",
      "Reject null hypothesis\n"
     ]
    }
   ],
   "source": [
    "SP_LowLesserThanAvg = df2['selling_price'][(df2['Brand_Group']=='Low') & (df2['km_driven']<=65000)]\n",
    "SP_MedGreaterThanAvg= df2['selling_price'][(df['Brand_Group']=='Medium')&(df2['km_driven']<=65000)]\n",
    "tscore,pval = stats.ttest_ind(SP_LowLesserThanAvg, SP_MedGreaterThanAvg)  \n",
    "print(pval)\n",
    "if pval<0.05:\n",
    "    print(\"Reject null hypothesis\")\n",
    "else:\n",
    "    print(\"Accept null hypothesis\")"
   ]
  },
  {
   "cell_type": "markdown",
   "metadata": {},
   "source": [
    "#### kms driven Vs Premium and Non Premium cars\n"
   ]
  },
  {
   "cell_type": "code",
   "execution_count": 357,
   "metadata": {},
   "outputs": [
    {
     "data": {
      "image/png": "[encoded data removed]",
      "text/plain": [
       "<Figure size 360x360 with 1 Axes>"
      ]
     },
     "metadata": {
      "needs_background": "light"
     },
     "output_type": "display_data"
    }
   ],
   "source": [
    "df3=df.copy()\n",
    "#df3['Brand_Group'][(df['Brand_Group']=='Low')|(df['Brand_Group']=='Medium')]=\"Non Premium\" \n",
    "df3['Brand_Group'] =df3['Brand_Group'].apply(lambda x: \"Non Premium\" if (x==\"Low\" or x==\"Medium\") else \"Premium\")\n",
    "plt.figure(figsize=(5, 5))\n",
    "ax = sns.boxplot(x='Brand_Group', y='km_driven', data=df3,showfliers=False)\n",
    "ax.set(xlabel = 'Brand_Group', ylabel = 'km_driven', title = 'Premium & Non Premium Vs km_driven')\n",
    "plt.show()"
   ]
  },
  {
   "cell_type": "code",
   "execution_count": 358,
   "metadata": {},
   "outputs": [
    {
     "name": "stdout",
     "output_type": "stream",
     "text": [
      "8.928761476042556e-43\n",
      "Reject null hypothesis\n"
     ]
    }
   ],
   "source": [
    "km_Premium = df3['Brand_Group'][df3['Brand_Group']=='Premium']\n",
    "km_NonPremium= df3['Brand_Group'][df3['Brand_Group']=='Non Premium']\n",
    "tscore,pval = stats.ttest_ind(SP_LowLesserThanAvg, SP_MedGreaterThanAvg)  \n",
    "print(pval)\n",
    "if pval<0.05:\n",
    "    print(\"Reject null hypothesis\")\n",
    "else:\n",
    "    print(\"Accept null hypothesis\")"
   ]
  },
  {
   "cell_type": "markdown",
   "metadata": {},
   "source": [
    "#### Seller_type Vs selling_price for Premium cars"
   ]
  },
  {
   "cell_type": "code",
   "execution_count": 359,
   "metadata": {},
   "outputs": [
    {
     "data": {
      "image/png": "[encoded data removed]",
      "text/plain": [
       "<Figure size 360x360 with 1 Axes>"
      ]
     },
     "metadata": {
      "needs_background": "light"
     },
     "output_type": "display_data"
    }
   ],
   "source": [
    "df4= df3.copy()\n",
    "#df3['Brand_Group'][(df['Brand_Group']=='Low')|(df['Brand_Group']=='Medium')]=\"Non Premium\" \n",
    "df4 =df4[df4['Brand_Group']==\"Premium\"]\n",
    "plt.figure(figsize=(5, 5))\n",
    "ax = sns.boxplot(x='seller_type', y='selling_price', data=df4,showfliers=False)\n",
    "ax.set(xlabel = 'seller_type', ylabel = 'selling_price', title = 'seller_type Vs selling_price for Premium cars')\n",
    "plt.show()"
   ]
  },
  {
   "cell_type": "code",
   "execution_count": 360,
   "metadata": {},
   "outputs": [
    {
     "name": "stdout",
     "output_type": "stream",
     "text": [
      "1.7659856973660056e-47\n",
      "Reject null hypothesis\n"
     ]
    }
   ],
   "source": [
    "Sp_Dealer = df3['selling_price'][df3['seller_type']=='Dealer']\n",
    "Sp_Individual= df3['selling_price'][df3['seller_type']=='Individual']\n",
    "tscore,pval = stats.ttest_ind(Sp_Dealer, Sp_Individual)  \n",
    "print(pval)\n",
    "if pval<0.05:\n",
    "    print(\"Reject null hypothesis\")\n",
    "else:\n",
    "    print(\"Accept null hypothesis\")"
   ]
  },
  {
   "cell_type": "markdown",
   "metadata": {},
   "source": [
    "## ANOVA"
   ]
  },
  {
   "cell_type": "markdown",
   "metadata": {},
   "source": [
    "#### seller_type Vs selling_price for Non Premium cars"
   ]
  },
  {
   "cell_type": "code",
   "execution_count": 361,
   "metadata": {},
   "outputs": [
    {
     "data": {
      "image/png": "[encoded data removed]",
      "text/plain": [
       "<Figure size 360x360 with 1 Axes>"
      ]
     },
     "metadata": {
      "needs_background": "light"
     },
     "output_type": "display_data"
    }
   ],
   "source": [
    "df4= df3.copy()\n",
    "#df3['Brand_Group'][(df['Brand_Group']=='Low')|(df['Brand_Group']=='Medium')]=\"Non Premium\" \n",
    "df4 =df4[df4['Brand_Group']==\"Non Premium\"]\n",
    "plt.figure(figsize=(5, 5))\n",
    "ax = sns.boxplot(x='seller_type', y='selling_price', data=df4,showfliers=False)\n",
    "ax.set(xlabel = 'seller_type', ylabel = 'selling_price', title = 'seller_type Vs selling_price for Non Premium cars')\n",
    "plt.show()"
   ]
  },
  {
   "cell_type": "code",
   "execution_count": 362,
   "metadata": {},
   "outputs": [
    {
     "name": "stdout",
     "output_type": "stream",
     "text": [
      "1.907388411602548e-57\n",
      "Reject null hypothesis\n"
     ]
    }
   ],
   "source": [
    "Sp_Dealer = df3['selling_price'][df3['seller_type']=='Dealer']\n",
    "Sp_Individual= df3['selling_price'][df3['seller_type']=='Individual']\n",
    "Sp_TrustMarkDealer = df3['selling_price'][df3['seller_type']==\"Trustmark Dealer\"]\n",
    "Fscore, pvalue = stats.f_oneway(Sp_Dealer, Sp_Individual, Sp_TrustMarkDealer)\n",
    "\n",
    "print(pvalue)\n",
    "if pvalue<0.05:\n",
    "    print(\"Reject null hypothesis\")\n",
    "else:\n",
    "    print(\"Rccept null hypothesis\")"
   ]
  },
  {
   "cell_type": "markdown",
   "metadata": {},
   "source": [
    "#### Selling_price  Vs Kms_driven"
   ]
  },
  {
   "cell_type": "code",
   "execution_count": 363,
   "metadata": {},
   "outputs": [
    {
     "data": {
      "image/png": "[encoded data removed]",
      "text/plain": [
       "<Figure size 360x360 with 1 Axes>"
      ]
     },
     "metadata": {
      "needs_background": "light"
     },
     "output_type": "display_data"
    }
   ],
   "source": [
    "\n",
    "df5= df.copy()\n",
    "df5['kmLevel'] = np.where(\n",
    "    df5['km_driven'] <= 35000, \"Level1\", np.where(\n",
    "     (df5['km_driven'] >35000) & (df5['km_driven'] <=60000), \"Level2\",np.where(\n",
    "     (df5['km_driven'] >60000) & (df5['km_driven'] <=90000), \"Level3\", \"Level4\")))\n",
    "plt.figure(figsize=(5, 5))\n",
    "ax = sns.boxplot(x='kmLevel', y='selling_price', data=df5,showfliers=False,order=['Level1', 'Level2', 'Level3', 'Level4'])\n",
    "ax.set(xlabel = 'km_level', ylabel = 'selling_price', title = 'km_level Vs selling_price')\n",
    "plt.show()"
   ]
  },
  {
   "cell_type": "code",
   "execution_count": 364,
   "metadata": {},
   "outputs": [
    {
     "name": "stdout",
     "output_type": "stream",
     "text": [
      "3.569477771843596e-59\n",
      "Reject null hypothesis\n"
     ]
    }
   ],
   "source": [
    "Sp_kmLevel1 = df5['selling_price'][df5['km_driven']<=35000] \n",
    "Sp_kmLevel2 = df5['selling_price'][(df5['km_driven']<=60000) & (df5['km_driven']>35000)]\n",
    "Sp_kmLevel3 = df5['selling_price'][(df5['km_driven']<=90000) & (df5['km_driven']>60000)]                        \n",
    "Sp_kmLevel4 = df5['selling_price'][df5['km_driven']>90000]\n",
    "Fscore, pvalue = stats.f_oneway(Sp_kmLevel1,Sp_kmLevel2,Sp_kmLevel3,Sp_kmLevel4)\n",
    "\n",
    "print(pvalue)\n",
    "if pvalue<0.05:\n",
    "    print(\"Reject null hypothesis\")\n",
    "else:\n",
    "    print(\"Rccept null hypothesis\")"
   ]
  },
  {
   "cell_type": "markdown",
   "metadata": {},
   "source": [
    "#### Owner Vs Selling Price"
   ]
  },
  {
   "cell_type": "code",
   "execution_count": 365,
   "metadata": {},
   "outputs": [
    {
     "data": {
      "image/png": "[encoded data removed]",
      "text/plain": [
       "<Figure size 432x360 with 1 Axes>"
      ]
     },
     "metadata": {
      "needs_background": "light"
     },
     "output_type": "display_data"
    }
   ],
   "source": [
    "df6= df.copy()\n",
    "plt.figure(figsize=(6, 5))\n",
    "df6 =df6[(df6['owner']==\"Second Owner\") |  (df6['owner']==\"Third Owner\") | (df6['owner']==\"Fourth & Above Owner\") ]\n",
    "ax = sns.boxplot(x='owner', y='selling_price', data=df6,showfliers=False)\n",
    "ax.set(xlabel = 'seller_type', ylabel = 'selling_price', title = 'seller_type Vs selling_price for Non Premium cars')\n",
    "plt.show()"
   ]
  },
  {
   "cell_type": "code",
   "execution_count": 366,
   "metadata": {},
   "outputs": [
    {
     "name": "stdout",
     "output_type": "stream",
     "text": [
      "3.6804480136077177e-07\n",
      "Reject null hypothesis\n"
     ]
    }
   ],
   "source": [
    "Sp_owner1 = df6['selling_price'][df6['owner'] ==\"Second Owner\"] \n",
    "Sp_owner2 = df6['selling_price'][df6['owner'] ==\"Third Owner\"]\n",
    "Sp_owner3 = df6['selling_price'][df6['owner'] ==\"Fourth & Above Owner\"]                        \n",
    "\n",
    "Fscore, pvalue = stats.f_oneway(Sp_owner1,Sp_owner2,Sp_owner3)\n",
    "\n",
    "print(pvalue)\n",
    "if pvalue<0.05:\n",
    "    print(\"Reject null hypothesis\")\n",
    "else:\n",
    "    print(\"Rccept null hypothesis\")"
   ]
  },
  {
   "cell_type": "markdown",
   "metadata": {},
   "source": [
    "## Chi Square Test"
   ]
  },
  {
   "cell_type": "markdown",
   "metadata": {},
   "source": [
    "#### To check whether the owners of premium and non premium brands choose the seller type similarly or differently"
   ]
  },
  {
   "cell_type": "code",
   "execution_count": 367,
   "metadata": {},
   "outputs": [],
   "source": [
    "contingency_table=pd.crosstab(df['Brand_Group'],df['seller_type'])\n",
    "data = contingency_table.values\n"
   ]
  },
  {
   "cell_type": "code",
   "execution_count": 368,
   "metadata": {},
   "outputs": [
    {
     "name": "stdout",
     "output_type": "stream",
     "text": [
      "p value is 1.3908545327295305e-54\n",
      "__\n"
     ]
    }
   ],
   "source": [
    "\n",
    "stat, p, dof, expected = chi2_contingency(data)\n",
    "alpha = 0.05\n",
    "print(\"p value is \" + str(p))\n",
    "if p <= alpha:\n",
    "    print('__')\n",
    "else:\n",
    "    print('Independent (H0 holds true)')"
   ]
  },
  {
   "cell_type": "markdown",
   "metadata": {},
   "source": [
    "# Mutiple Linear Regression"
   ]
  },
  {
   "cell_type": "code",
   "execution_count": 369,
   "metadata": {},
   "outputs": [],
   "source": [
    "df.head()\n",
    "df= df.drop('selling_price', axis=1)"
   ]
  },
  {
   "cell_type": "code",
   "execution_count": 370,
   "metadata": {},
   "outputs": [],
   "source": [
    "df_dummy =pd.get_dummies( df.iloc[:,:-1], drop_first=True)\n"
   ]
  },
  {
   "cell_type": "code",
   "execution_count": 371,
   "metadata": {},
   "outputs": [],
   "source": [
    "X = df_dummy\n",
    "y = df.iloc[:,-1]"
   ]
  },
  {
   "cell_type": "code",
   "execution_count": 372,
   "metadata": {},
   "outputs": [],
   "source": [
    "X_train, X_test, y_train, y_test = train_test_split(X, y, test_size=0.3, random_state=42)"
   ]
  },
  {
   "cell_type": "code",
   "execution_count": 373,
   "metadata": {},
   "outputs": [
    {
     "name": "stdout",
     "output_type": "stream",
     "text": [
      "                            OLS Regression Results                            \n",
      "==============================================================================\n",
      "Dep. Variable:      log selling_price   R-squared:                       0.761\n",
      "Model:                            OLS   Adj. R-squared:                  0.759\n",
      "Method:                 Least Squares   F-statistic:                     640.2\n",
      "Date:                Wed, 20 Oct 2021   Prob (F-statistic):               0.00\n",
      "Time:                        09:29:10   Log-Likelihood:                -1594.2\n",
      "No. Observations:                3038   AIC:                             3220.\n",
      "Df Residuals:                    3022   BIC:                             3317.\n",
      "Df Model:                          15                                         \n",
      "Covariance Type:            nonrobust                                         \n",
      "================================================================================================\n",
      "                                   coef    std err          t      P>|t|      [0.025      0.975]\n",
      "------------------------------------------------------------------------------------------------\n",
      "const                           13.6200      0.081    167.653      0.000      13.461      13.779\n",
      "km_driven                    -3.156e-07   1.88e-07     -1.677      0.094   -6.85e-07    5.34e-08\n",
      "Age                             -0.1123      0.002    -50.685      0.000      -0.117      -0.108\n",
      "Brand_Group_Medium               0.3100      0.016     19.530      0.000       0.279       0.341\n",
      "Brand_Group_Premium              1.3262      0.050     26.398      0.000       1.228       1.425\n",
      "fuel_Diesel                      0.4638      0.075      6.197      0.000       0.317       0.611\n",
      "fuel_Electric                    0.4501      0.418      1.076      0.282      -0.370       1.270\n",
      "fuel_LPG                        -0.0575      0.129     -0.445      0.657      -0.311       0.196\n",
      "fuel_Petrol                      0.0535      0.075      0.715      0.474      -0.093       0.200\n",
      "seller_type_Individual          -0.0612      0.019     -3.170      0.002      -0.099      -0.023\n",
      "seller_type_Trustmark Dealer     0.5261      0.051     10.238      0.000       0.425       0.627\n",
      "transmission_Manual             -0.4008      0.030    -13.535      0.000      -0.459      -0.343\n",
      "owner_Fourth & Above Owner      -0.1085      0.054     -2.013      0.044      -0.214      -0.003\n",
      "owner_Second Owner              -0.0311      0.019     -1.623      0.105      -0.069       0.006\n",
      "owner_Test Drive Car             0.1445      0.116      1.249      0.212      -0.082       0.371\n",
      "owner_Third Owner               -0.1089      0.032     -3.373      0.001      -0.172      -0.046\n",
      "==============================================================================\n",
      "Omnibus:                       32.118   Durbin-Watson:                   1.998\n",
      "Prob(Omnibus):                  0.000   Jarque-Bera (JB):               48.411\n",
      "Skew:                           0.093   Prob(JB):                     3.07e-11\n",
      "Kurtosis:                       3.590   Cond. No.                     4.58e+06\n",
      "==============================================================================\n",
      "\n",
      "Notes:\n",
      "[1] Standard Errors assume that the covariance matrix of the errors is correctly specified.\n",
      "[2] The condition number is large, 4.58e+06. This might indicate that there are\n",
      "strong multicollinearity or other numerical problems.\n"
     ]
    }
   ],
   "source": [
    "train_x_with_constant=sm.add_constant((X_train))\n",
    "model = sm.OLS(y_train,train_x_with_constant ).fit()        #\n",
    "print(model.summary())"
   ]
  },
  {
   "cell_type": "code",
   "execution_count": 376,
   "metadata": {},
   "outputs": [
    {
     "data": {
      "text/plain": [
       "Text(0, 0.5, 'Residuals')"
      ]
     },
     "execution_count": 376,
     "metadata": {},
     "output_type": "execute_result"
    },
    {
     "data": {
      "image/png": "[encoded data removed]",
      "text/plain": [
       "<Figure size 432x288 with 1 Axes>"
      ]
     },
     "metadata": {
      "needs_background": "light"
     },
     "output_type": "display_data"
    }
   ],
   "source": [
    "plt.figure()\n",
    "ax =sns.regplot(y = model.resid, x = model.fittedvalues);   # residual plot\n",
    "plt.xlabel('Fitted values')\n",
    "plt.ylabel('Residuals')"
   ]
  },
  {
   "cell_type": "code",
   "execution_count": 377,
   "metadata": {},
   "outputs": [
    {
     "data": {
      "image/png": "[encoded data removed]",
      "text/plain": [
       "<Figure size 432x288 with 1 Axes>"
      ]
     },
     "metadata": {
      "needs_background": "light"
     },
     "output_type": "display_data"
    }
   ],
   "source": [
    "\n",
    "fig = sm.qqplot( model.resid.values, stats.t,fit=True, line=\"45\")\n",
    "plt.show()"
   ]
  },
  {
   "cell_type": "code",
   "execution_count": 378,
   "metadata": {},
   "outputs": [
    {
     "name": "stderr",
     "output_type": "stream",
     "text": [
      "C:\\IDE\\Anaconda\\lib\\site-packages\\seaborn\\distributions.py:2551: FutureWarning: `distplot` is a deprecated function and will be removed in a future version. Please adapt your code to use either `displot` (a figure-level function with similar flexibility) or `histplot` (an axes-level function for histograms).\n",
      "  warnings.warn(msg, FutureWarning)\n"
     ]
    },
    {
     "data": {
      "text/plain": [
       "<AxesSubplot:ylabel='Density'>"
      ]
     },
     "execution_count": 378,
     "metadata": {},
     "output_type": "execute_result"
    },
    {
     "data": {
      "image/png": "[encoded data removed]",
      "text/plain": [
       "<Figure size 432x288 with 1 Axes>"
      ]
     },
     "metadata": {
      "needs_background": "light"
     },
     "output_type": "display_data"
    }
   ],
   "source": [
    "#plt.hist(model.resid.values, bins = 50);\n",
    "sns.distplot(model.resid.values, kde=True)"
   ]
  },
  {
   "cell_type": "code",
   "execution_count": 379,
   "metadata": {},
   "outputs": [
    {
     "data": {
      "text/plain": [
       "1.9976457583979073"
      ]
     },
     "execution_count": 379,
     "metadata": {},
     "output_type": "execute_result"
    }
   ],
   "source": [
    "durbin_watson(model.resid)"
   ]
  },
  {
   "cell_type": "code",
   "execution_count": 380,
   "metadata": {},
   "outputs": [],
   "source": [
    "test_x_with_constant=sm.add_constant((X_test)) \n",
    "pred_y = model.predict(test_x_with_constant)\n"
   ]
  },
  {
   "cell_type": "code",
   "execution_count": 381,
   "metadata": {},
   "outputs": [
    {
     "name": "stdout",
     "output_type": "stream",
     "text": [
      "MSE = 0.18246720941078423 and RMSE = 0.4271618070600229\n"
     ]
    }
   ],
   "source": [
    "MeanSquareError = mse(y_test, pred_y)\n",
    "print('MSE =', MeanSquareError,'and RMSE =', np.sqrt(MeanSquareError))"
   ]
  },
  {
   "cell_type": "code",
   "execution_count": 393,
   "metadata": {},
   "outputs": [
    {
     "data": {
      "text/plain": [
       "3.3527126912537084"
      ]
     },
     "execution_count": 393,
     "metadata": {},
     "output_type": "execute_result"
    }
   ],
   "source": [
    "np.sqrt(MeanSquareError)/np.mean(y_test)*100"
   ]
  },
  {
   "cell_type": "code",
   "execution_count": 396,
   "metadata": {},
   "outputs": [],
   "source": [
    "from sklearn.model_selection import cross_val_score\n",
    "regr = LinearRegression()\n",
    "  \n",
    "regr.fit(X_train, y_train)\n",
    "y_pred = regr.predict(X_test)"
   ]
  },
  {
   "cell_type": "code",
   "execution_count": 403,
   "metadata": {},
   "outputs": [
    {
     "name": "stdout",
     "output_type": "stream",
     "text": [
      "[13.0146899]\n"
     ]
    }
   ],
   "source": [
    "feature_array = [500000,4,0,0,1,0,0,0,1,0,1,0,0,0,0]\n",
    "prediction = regr.predict([feature_array])\n",
    "print(prediction)"
   ]
  },
  {
   "cell_type": "code",
   "execution_count": 404,
   "metadata": {},
   "outputs": [
    {
     "data": {
      "text/plain": [
       "array([12.36089908, 13.28832335, 12.01688405, ..., 12.43583677,\n",
       "       13.17156128, 11.70566341])"
      ]
     },
     "execution_count": 404,
     "metadata": {},
     "output_type": "execute_result"
    }
   ],
   "source": [
    "y_pred"
   ]
  },
  {
   "cell_type": "markdown",
   "metadata": {},
   "source": [
    "# Logistic Regression"
   ]
  },
  {
   "cell_type": "code",
   "execution_count": 382,
   "metadata": {},
   "outputs": [
    {
     "data": {
      "text/html": [
       "<div>\n",
       "<style scoped>\n",
       "    .dataframe tbody tr th:only-of-type {\n",
       "        vertical-align: middle;\n",
       "    }\n",
       "\n",
       "    .dataframe tbody tr th {\n",
       "        vertical-align: top;\n",
       "    }\n",
       "\n",
       "    .dataframe thead th {\n",
       "        text-align: right;\n",
       "    }\n",
       "</style>\n",
       "<table border=\"1\" class=\"dataframe\">\n",
       "  <thead>\n",
       "    <tr style=\"text-align: right;\">\n",
       "      <th></th>\n",
       "      <th>Brand_Group</th>\n",
       "      <th>km_driven</th>\n",
       "      <th>Age</th>\n",
       "      <th>fuel</th>\n",
       "      <th>seller_type</th>\n",
       "      <th>transmission</th>\n",
       "      <th>owner</th>\n",
       "      <th>log selling_price</th>\n",
       "    </tr>\n",
       "  </thead>\n",
       "  <tbody>\n",
       "    <tr>\n",
       "      <th>0</th>\n",
       "      <td>Non Premium</td>\n",
       "      <td>70000</td>\n",
       "      <td>14</td>\n",
       "      <td>Petrol</td>\n",
       "      <td>Individual</td>\n",
       "      <td>Manual</td>\n",
       "      <td>First Owner</td>\n",
       "      <td>11.002100</td>\n",
       "    </tr>\n",
       "    <tr>\n",
       "      <th>1</th>\n",
       "      <td>Non Premium</td>\n",
       "      <td>50000</td>\n",
       "      <td>14</td>\n",
       "      <td>Petrol</td>\n",
       "      <td>Individual</td>\n",
       "      <td>Manual</td>\n",
       "      <td>First Owner</td>\n",
       "      <td>11.813030</td>\n",
       "    </tr>\n",
       "    <tr>\n",
       "      <th>2</th>\n",
       "      <td>Non Premium</td>\n",
       "      <td>100000</td>\n",
       "      <td>9</td>\n",
       "      <td>Diesel</td>\n",
       "      <td>Individual</td>\n",
       "      <td>Manual</td>\n",
       "      <td>First Owner</td>\n",
       "      <td>13.304685</td>\n",
       "    </tr>\n",
       "    <tr>\n",
       "      <th>3</th>\n",
       "      <td>Non Premium</td>\n",
       "      <td>46000</td>\n",
       "      <td>4</td>\n",
       "      <td>Petrol</td>\n",
       "      <td>Individual</td>\n",
       "      <td>Manual</td>\n",
       "      <td>First Owner</td>\n",
       "      <td>12.429216</td>\n",
       "    </tr>\n",
       "    <tr>\n",
       "      <th>4</th>\n",
       "      <td>Non Premium</td>\n",
       "      <td>141000</td>\n",
       "      <td>7</td>\n",
       "      <td>Diesel</td>\n",
       "      <td>Individual</td>\n",
       "      <td>Manual</td>\n",
       "      <td>Second Owner</td>\n",
       "      <td>13.017003</td>\n",
       "    </tr>\n",
       "    <tr>\n",
       "      <th>...</th>\n",
       "      <td>...</td>\n",
       "      <td>...</td>\n",
       "      <td>...</td>\n",
       "      <td>...</td>\n",
       "      <td>...</td>\n",
       "      <td>...</td>\n",
       "      <td>...</td>\n",
       "      <td>...</td>\n",
       "    </tr>\n",
       "    <tr>\n",
       "      <th>4335</th>\n",
       "      <td>Non Premium</td>\n",
       "      <td>80000</td>\n",
       "      <td>7</td>\n",
       "      <td>Diesel</td>\n",
       "      <td>Individual</td>\n",
       "      <td>Manual</td>\n",
       "      <td>Second Owner</td>\n",
       "      <td>12.923910</td>\n",
       "    </tr>\n",
       "    <tr>\n",
       "      <th>4336</th>\n",
       "      <td>Non Premium</td>\n",
       "      <td>80000</td>\n",
       "      <td>7</td>\n",
       "      <td>Diesel</td>\n",
       "      <td>Individual</td>\n",
       "      <td>Manual</td>\n",
       "      <td>Second Owner</td>\n",
       "      <td>12.923910</td>\n",
       "    </tr>\n",
       "    <tr>\n",
       "      <th>4337</th>\n",
       "      <td>Non Premium</td>\n",
       "      <td>83000</td>\n",
       "      <td>12</td>\n",
       "      <td>Petrol</td>\n",
       "      <td>Individual</td>\n",
       "      <td>Manual</td>\n",
       "      <td>Second Owner</td>\n",
       "      <td>11.608236</td>\n",
       "    </tr>\n",
       "    <tr>\n",
       "      <th>4338</th>\n",
       "      <td>Non Premium</td>\n",
       "      <td>90000</td>\n",
       "      <td>5</td>\n",
       "      <td>Diesel</td>\n",
       "      <td>Individual</td>\n",
       "      <td>Manual</td>\n",
       "      <td>First Owner</td>\n",
       "      <td>13.670485</td>\n",
       "    </tr>\n",
       "    <tr>\n",
       "      <th>4339</th>\n",
       "      <td>Non Premium</td>\n",
       "      <td>40000</td>\n",
       "      <td>5</td>\n",
       "      <td>Petrol</td>\n",
       "      <td>Individual</td>\n",
       "      <td>Manual</td>\n",
       "      <td>First Owner</td>\n",
       "      <td>12.323856</td>\n",
       "    </tr>\n",
       "  </tbody>\n",
       "</table>\n",
       "<p>4340 rows × 8 columns</p>\n",
       "</div>"
      ],
      "text/plain": [
       "      Brand_Group  km_driven  Age    fuel seller_type transmission  \\\n",
       "0     Non Premium      70000   14  Petrol  Individual       Manual   \n",
       "1     Non Premium      50000   14  Petrol  Individual       Manual   \n",
       "2     Non Premium     100000    9  Diesel  Individual       Manual   \n",
       "3     Non Premium      46000    4  Petrol  Individual       Manual   \n",
       "4     Non Premium     141000    7  Diesel  Individual       Manual   \n",
       "...           ...        ...  ...     ...         ...          ...   \n",
       "4335  Non Premium      80000    7  Diesel  Individual       Manual   \n",
       "4336  Non Premium      80000    7  Diesel  Individual       Manual   \n",
       "4337  Non Premium      83000   12  Petrol  Individual       Manual   \n",
       "4338  Non Premium      90000    5  Diesel  Individual       Manual   \n",
       "4339  Non Premium      40000    5  Petrol  Individual       Manual   \n",
       "\n",
       "             owner  log selling_price  \n",
       "0      First Owner          11.002100  \n",
       "1      First Owner          11.813030  \n",
       "2      First Owner          13.304685  \n",
       "3      First Owner          12.429216  \n",
       "4     Second Owner          13.017003  \n",
       "...            ...                ...  \n",
       "4335  Second Owner          12.923910  \n",
       "4336  Second Owner          12.923910  \n",
       "4337  Second Owner          11.608236  \n",
       "4338   First Owner          13.670485  \n",
       "4339   First Owner          12.323856  \n",
       "\n",
       "[4340 rows x 8 columns]"
      ]
     },
     "execution_count": 382,
     "metadata": {},
     "output_type": "execute_result"
    }
   ],
   "source": [
    "df_LR=df3.drop(['selling_price' ], axis=1)\n",
    "df_LR"
   ]
  },
  {
   "cell_type": "code",
   "execution_count": 383,
   "metadata": {},
   "outputs": [
    {
     "data": {
      "text/html": [
       "<div>\n",
       "<style scoped>\n",
       "    .dataframe tbody tr th:only-of-type {\n",
       "        vertical-align: middle;\n",
       "    }\n",
       "\n",
       "    .dataframe tbody tr th {\n",
       "        vertical-align: top;\n",
       "    }\n",
       "\n",
       "    .dataframe thead th {\n",
       "        text-align: right;\n",
       "    }\n",
       "</style>\n",
       "<table border=\"1\" class=\"dataframe\">\n",
       "  <thead>\n",
       "    <tr style=\"text-align: right;\">\n",
       "      <th></th>\n",
       "      <th>km_driven</th>\n",
       "      <th>Age</th>\n",
       "      <th>log selling_price</th>\n",
       "      <th>Brand_Group_Premium</th>\n",
       "      <th>fuel_Diesel</th>\n",
       "      <th>fuel_Electric</th>\n",
       "      <th>fuel_LPG</th>\n",
       "      <th>fuel_Petrol</th>\n",
       "      <th>seller_type_Individual</th>\n",
       "      <th>seller_type_Trustmark Dealer</th>\n",
       "      <th>transmission_Manual</th>\n",
       "      <th>owner_Fourth &amp; Above Owner</th>\n",
       "      <th>owner_Second Owner</th>\n",
       "      <th>owner_Test Drive Car</th>\n",
       "      <th>owner_Third Owner</th>\n",
       "    </tr>\n",
       "  </thead>\n",
       "  <tbody>\n",
       "    <tr>\n",
       "      <th>0</th>\n",
       "      <td>70000</td>\n",
       "      <td>14</td>\n",
       "      <td>11.002100</td>\n",
       "      <td>0</td>\n",
       "      <td>0</td>\n",
       "      <td>0</td>\n",
       "      <td>0</td>\n",
       "      <td>1</td>\n",
       "      <td>1</td>\n",
       "      <td>0</td>\n",
       "      <td>1</td>\n",
       "      <td>0</td>\n",
       "      <td>0</td>\n",
       "      <td>0</td>\n",
       "      <td>0</td>\n",
       "    </tr>\n",
       "    <tr>\n",
       "      <th>1</th>\n",
       "      <td>50000</td>\n",
       "      <td>14</td>\n",
       "      <td>11.813030</td>\n",
       "      <td>0</td>\n",
       "      <td>0</td>\n",
       "      <td>0</td>\n",
       "      <td>0</td>\n",
       "      <td>1</td>\n",
       "      <td>1</td>\n",
       "      <td>0</td>\n",
       "      <td>1</td>\n",
       "      <td>0</td>\n",
       "      <td>0</td>\n",
       "      <td>0</td>\n",
       "      <td>0</td>\n",
       "    </tr>\n",
       "    <tr>\n",
       "      <th>2</th>\n",
       "      <td>100000</td>\n",
       "      <td>9</td>\n",
       "      <td>13.304685</td>\n",
       "      <td>0</td>\n",
       "      <td>1</td>\n",
       "      <td>0</td>\n",
       "      <td>0</td>\n",
       "      <td>0</td>\n",
       "      <td>1</td>\n",
       "      <td>0</td>\n",
       "      <td>1</td>\n",
       "      <td>0</td>\n",
       "      <td>0</td>\n",
       "      <td>0</td>\n",
       "      <td>0</td>\n",
       "    </tr>\n",
       "    <tr>\n",
       "      <th>3</th>\n",
       "      <td>46000</td>\n",
       "      <td>4</td>\n",
       "      <td>12.429216</td>\n",
       "      <td>0</td>\n",
       "      <td>0</td>\n",
       "      <td>0</td>\n",
       "      <td>0</td>\n",
       "      <td>1</td>\n",
       "      <td>1</td>\n",
       "      <td>0</td>\n",
       "      <td>1</td>\n",
       "      <td>0</td>\n",
       "      <td>0</td>\n",
       "      <td>0</td>\n",
       "      <td>0</td>\n",
       "    </tr>\n",
       "    <tr>\n",
       "      <th>4</th>\n",
       "      <td>141000</td>\n",
       "      <td>7</td>\n",
       "      <td>13.017003</td>\n",
       "      <td>0</td>\n",
       "      <td>1</td>\n",
       "      <td>0</td>\n",
       "      <td>0</td>\n",
       "      <td>0</td>\n",
       "      <td>1</td>\n",
       "      <td>0</td>\n",
       "      <td>1</td>\n",
       "      <td>0</td>\n",
       "      <td>1</td>\n",
       "      <td>0</td>\n",
       "      <td>0</td>\n",
       "    </tr>\n",
       "    <tr>\n",
       "      <th>...</th>\n",
       "      <td>...</td>\n",
       "      <td>...</td>\n",
       "      <td>...</td>\n",
       "      <td>...</td>\n",
       "      <td>...</td>\n",
       "      <td>...</td>\n",
       "      <td>...</td>\n",
       "      <td>...</td>\n",
       "      <td>...</td>\n",
       "      <td>...</td>\n",
       "      <td>...</td>\n",
       "      <td>...</td>\n",
       "      <td>...</td>\n",
       "      <td>...</td>\n",
       "      <td>...</td>\n",
       "    </tr>\n",
       "    <tr>\n",
       "      <th>4335</th>\n",
       "      <td>80000</td>\n",
       "      <td>7</td>\n",
       "      <td>12.923910</td>\n",
       "      <td>0</td>\n",
       "      <td>1</td>\n",
       "      <td>0</td>\n",
       "      <td>0</td>\n",
       "      <td>0</td>\n",
       "      <td>1</td>\n",
       "      <td>0</td>\n",
       "      <td>1</td>\n",
       "      <td>0</td>\n",
       "      <td>1</td>\n",
       "      <td>0</td>\n",
       "      <td>0</td>\n",
       "    </tr>\n",
       "    <tr>\n",
       "      <th>4336</th>\n",
       "      <td>80000</td>\n",
       "      <td>7</td>\n",
       "      <td>12.923910</td>\n",
       "      <td>0</td>\n",
       "      <td>1</td>\n",
       "      <td>0</td>\n",
       "      <td>0</td>\n",
       "      <td>0</td>\n",
       "      <td>1</td>\n",
       "      <td>0</td>\n",
       "      <td>1</td>\n",
       "      <td>0</td>\n",
       "      <td>1</td>\n",
       "      <td>0</td>\n",
       "      <td>0</td>\n",
       "    </tr>\n",
       "    <tr>\n",
       "      <th>4337</th>\n",
       "      <td>83000</td>\n",
       "      <td>12</td>\n",
       "      <td>11.608236</td>\n",
       "      <td>0</td>\n",
       "      <td>0</td>\n",
       "      <td>0</td>\n",
       "      <td>0</td>\n",
       "      <td>1</td>\n",
       "      <td>1</td>\n",
       "      <td>0</td>\n",
       "      <td>1</td>\n",
       "      <td>0</td>\n",
       "      <td>1</td>\n",
       "      <td>0</td>\n",
       "      <td>0</td>\n",
       "    </tr>\n",
       "    <tr>\n",
       "      <th>4338</th>\n",
       "      <td>90000</td>\n",
       "      <td>5</td>\n",
       "      <td>13.670485</td>\n",
       "      <td>0</td>\n",
       "      <td>1</td>\n",
       "      <td>0</td>\n",
       "      <td>0</td>\n",
       "      <td>0</td>\n",
       "      <td>1</td>\n",
       "      <td>0</td>\n",
       "      <td>1</td>\n",
       "      <td>0</td>\n",
       "      <td>0</td>\n",
       "      <td>0</td>\n",
       "      <td>0</td>\n",
       "    </tr>\n",
       "    <tr>\n",
       "      <th>4339</th>\n",
       "      <td>40000</td>\n",
       "      <td>5</td>\n",
       "      <td>12.323856</td>\n",
       "      <td>0</td>\n",
       "      <td>0</td>\n",
       "      <td>0</td>\n",
       "      <td>0</td>\n",
       "      <td>1</td>\n",
       "      <td>1</td>\n",
       "      <td>0</td>\n",
       "      <td>1</td>\n",
       "      <td>0</td>\n",
       "      <td>0</td>\n",
       "      <td>0</td>\n",
       "      <td>0</td>\n",
       "    </tr>\n",
       "  </tbody>\n",
       "</table>\n",
       "<p>4340 rows × 15 columns</p>\n",
       "</div>"
      ],
      "text/plain": [
       "      km_driven  Age  log selling_price  Brand_Group_Premium  fuel_Diesel  \\\n",
       "0         70000   14          11.002100                    0            0   \n",
       "1         50000   14          11.813030                    0            0   \n",
       "2        100000    9          13.304685                    0            1   \n",
       "3         46000    4          12.429216                    0            0   \n",
       "4        141000    7          13.017003                    0            1   \n",
       "...         ...  ...                ...                  ...          ...   \n",
       "4335      80000    7          12.923910                    0            1   \n",
       "4336      80000    7          12.923910                    0            1   \n",
       "4337      83000   12          11.608236                    0            0   \n",
       "4338      90000    5          13.670485                    0            1   \n",
       "4339      40000    5          12.323856                    0            0   \n",
       "\n",
       "      fuel_Electric  fuel_LPG  fuel_Petrol  seller_type_Individual  \\\n",
       "0                 0         0            1                       1   \n",
       "1                 0         0            1                       1   \n",
       "2                 0         0            0                       1   \n",
       "3                 0         0            1                       1   \n",
       "4                 0         0            0                       1   \n",
       "...             ...       ...          ...                     ...   \n",
       "4335              0         0            0                       1   \n",
       "4336              0         0            0                       1   \n",
       "4337              0         0            1                       1   \n",
       "4338              0         0            0                       1   \n",
       "4339              0         0            1                       1   \n",
       "\n",
       "      seller_type_Trustmark Dealer  transmission_Manual  \\\n",
       "0                                0                    1   \n",
       "1                                0                    1   \n",
       "2                                0                    1   \n",
       "3                                0                    1   \n",
       "4                                0                    1   \n",
       "...                            ...                  ...   \n",
       "4335                             0                    1   \n",
       "4336                             0                    1   \n",
       "4337                             0                    1   \n",
       "4338                             0                    1   \n",
       "4339                             0                    1   \n",
       "\n",
       "      owner_Fourth & Above Owner  owner_Second Owner  owner_Test Drive Car  \\\n",
       "0                              0                   0                     0   \n",
       "1                              0                   0                     0   \n",
       "2                              0                   0                     0   \n",
       "3                              0                   0                     0   \n",
       "4                              0                   1                     0   \n",
       "...                          ...                 ...                   ...   \n",
       "4335                           0                   1                     0   \n",
       "4336                           0                   1                     0   \n",
       "4337                           0                   1                     0   \n",
       "4338                           0                   0                     0   \n",
       "4339                           0                   0                     0   \n",
       "\n",
       "      owner_Third Owner  \n",
       "0                     0  \n",
       "1                     0  \n",
       "2                     0  \n",
       "3                     0  \n",
       "4                     0  \n",
       "...                 ...  \n",
       "4335                  0  \n",
       "4336                  0  \n",
       "4337                  0  \n",
       "4338                  0  \n",
       "4339                  0  \n",
       "\n",
       "[4340 rows x 15 columns]"
      ]
     },
     "execution_count": 383,
     "metadata": {},
     "output_type": "execute_result"
    }
   ],
   "source": [
    "df_dummy =pd.get_dummies( df_LR, drop_first=True)\n",
    "df_dummy\n",
    "#Y = df4[]"
   ]
  },
  {
   "cell_type": "code",
   "execution_count": 384,
   "metadata": {},
   "outputs": [
    {
     "data": {
      "text/plain": [
       "Brand_Group_Premium\n",
       "0                      4184\n",
       "1                       156\n",
       "dtype: int64"
      ]
     },
     "execution_count": 384,
     "metadata": {},
     "output_type": "execute_result"
    }
   ],
   "source": [
    "X = df_dummy.drop('Brand_Group_Premium', axis=1)\n",
    "y =df_dummy[['Brand_Group_Premium']]\n",
    "y.value_counts()"
   ]
  },
  {
   "cell_type": "code",
   "execution_count": 385,
   "metadata": {},
   "outputs": [],
   "source": [
    "X_train_lr, X_test_lr, y_train_lr, y_test_lr = train_test_split(X, y, test_size=0.3, random_state=42)"
   ]
  },
  {
   "cell_type": "code",
   "execution_count": 386,
   "metadata": {},
   "outputs": [
    {
     "data": {
      "text/plain": [
       "Brand_Group_Premium\n",
       "0                      2929\n",
       "1                       109\n",
       "dtype: int64"
      ]
     },
     "execution_count": 386,
     "metadata": {},
     "output_type": "execute_result"
    }
   ],
   "source": [
    "X_train_lr\n",
    "y_train_lr.value_counts()"
   ]
  },
  {
   "cell_type": "code",
   "execution_count": 387,
   "metadata": {},
   "outputs": [],
   "source": [
    "#log_reg = sm.Logit(y_test_lr,X_test_lr).fit()"
   ]
  },
  {
   "cell_type": "code",
   "execution_count": 388,
   "metadata": {},
   "outputs": [],
   "source": [
    "#print(log_reg.summary())"
   ]
  },
  {
   "cell_type": "code",
   "execution_count": 389,
   "metadata": {},
   "outputs": [],
   "source": [
    "#log_reg.predict(X_test_lr)"
   ]
  },
  {
   "cell_type": "code",
   "execution_count": null,
   "metadata": {},
   "outputs": [],
   "source": [
    "\n",
    "\n"
   ]
  }
 ],
 "metadata": {
  "kernelspec": {
   "display_name": "Python 3",
   "language": "python",
   "name": "python3"
  },
  "language_info": {
   "codemirror_mode": {
    "name": "ipython",
    "version": 3
   },
   "file_extension": ".py",
   "mimetype": "text/x-python",
   "name": "python",
   "nbconvert_exporter": "python",
   "pygments_lexer": "ipython3",
   "version": "3.7.9"
  }
 },
 "nbformat": 4,
 "nbformat_minor": 4
}
